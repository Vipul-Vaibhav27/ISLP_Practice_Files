{
 "cells": [
  {
   "cell_type": "code",
   "execution_count": 1,
   "metadata": {},
   "outputs": [],
   "source": [
    "import numpy as np\n",
    "import pandas as pd\n",
    "import matplotlib.pyplot as plt\n",
    "import statsmodels.api as sm"
   ]
  },
  {
   "cell_type": "code",
   "execution_count": 2,
   "metadata": {},
   "outputs": [],
   "source": [
    "rng = np.random.default_rng(1) # seed is set to 1"
   ]
  },
  {
   "cell_type": "markdown",
   "metadata": {},
   "source": [
    "# 13(a)"
   ]
  },
  {
   "cell_type": "code",
   "execution_count": 6,
   "metadata": {},
   "outputs": [],
   "source": [
    "x = rng.normal(size=100) # feature X"
   ]
  },
  {
   "cell_type": "code",
   "execution_count": 7,
   "metadata": {},
   "outputs": [
    {
     "data": {
      "text/plain": [
       "array([ 3.30437076e-01, -1.30315723e+00,  9.05355867e-01,  4.46374572e-01,\n",
       "       -5.36953235e-01,  5.81118104e-01,  3.64572396e-01,  2.94132497e-01,\n",
       "        2.84222413e-02,  5.46712987e-01, -7.36454087e-01, -1.62909948e-01,\n",
       "       -4.82119313e-01,  5.98846213e-01,  3.97221075e-02, -2.92456751e-01,\n",
       "       -7.81908462e-01, -2.57192241e-01,  8.14218052e-03, -2.75602905e-01,\n",
       "        1.29406381e+00,  1.00672432e+00, -2.71116248e+00, -1.88901325e+00,\n",
       "       -1.74772092e-01, -4.22190412e-01,  2.13642997e-01,  2.17321931e-01,\n",
       "        2.11783876e+00, -1.11202076e+00, -3.77605007e-01,  2.04277161e+00,\n",
       "        6.46702996e-01,  6.63063372e-01, -5.14006372e-01, -1.64807517e+00,\n",
       "        1.67464744e-01,  1.09014088e-01, -1.22735205e+00, -6.83226662e-01,\n",
       "       -7.20436797e-02, -9.44751623e-01, -9.82699679e-02,  9.54830275e-02,\n",
       "        3.55862371e-02, -5.06291658e-01,  5.93748072e-01,  8.91166954e-01,\n",
       "        3.20848305e-01, -8.18230227e-01,  7.31652284e-01, -5.01440018e-01,\n",
       "        8.79160618e-01, -1.07178742e+00,  9.14467203e-01, -2.00634546e-02,\n",
       "       -1.24874889e+00, -3.13899472e-01,  5.41022788e-02,  2.72791339e-01,\n",
       "       -9.82188125e-01, -1.10737305e+00,  1.99584533e-01, -4.66749617e-01,\n",
       "        2.35505612e-01,  7.59519522e-01, -1.64878737e+00,  2.54388117e-01,\n",
       "        1.22464697e+00, -2.97526844e-01, -8.10814583e-01,  7.52243827e-01,\n",
       "        2.53446516e-01,  8.95883071e-01, -3.45215710e-01, -1.48181827e+00,\n",
       "       -1.10010765e-01, -4.45828153e-01,  7.75323822e-01,  1.93632848e-01,\n",
       "       -1.63084923e+00, -1.19516308e+00,  8.83789037e-01,  6.79765017e-01,\n",
       "       -6.40243366e-01, -1.04879657e-03,  4.45573554e-01,  4.68404336e-01,\n",
       "        8.76242196e-01,  2.56485627e-01, -9.48283390e-02, -2.58848065e-01,\n",
       "        1.05574280e+00, -2.25085428e+00, -1.38655325e-01,  3.30001040e-02,\n",
       "       -1.42534896e+00,  3.32813613e-01, -6.51281012e-01,  8.62444796e-01])"
      ]
     },
     "execution_count": 7,
     "metadata": {},
     "output_type": "execute_result"
    }
   ],
   "source": [
    "x"
   ]
  },
  {
   "cell_type": "markdown",
   "metadata": {},
   "source": [
    "# 13(b)"
   ]
  },
  {
   "cell_type": "code",
   "execution_count": 8,
   "metadata": {},
   "outputs": [
    {
     "data": {
      "text/plain": [
       "array([-3.13980210e-02,  1.67288310e-01,  3.04710901e-01,  9.57323957e-02,\n",
       "       -2.18930286e-01, -3.78579658e-01,  4.38346029e-01, -2.78230483e-02,\n",
       "       -1.72141237e-01,  3.60642720e-02, -4.78528326e-02,  2.13035566e-01,\n",
       "        8.48204561e-03,  3.43739590e-03, -1.78644930e-01,  1.17392025e-01,\n",
       "       -2.58466681e-01,  1.66472360e-01,  3.80984378e-01, -3.81171510e-01,\n",
       "       -6.16557308e-01,  1.54219689e-01,  6.36974454e-01, -2.50231212e-01,\n",
       "       -3.12673940e-01,  1.47242233e-01, -2.10180398e-01, -1.26506371e-01,\n",
       "       -8.70293667e-02,  1.33000522e-01, -1.01325590e-01,  6.94707100e-02,\n",
       "       -4.41333147e-02, -2.11167776e-01, -7.99565644e-02, -2.37599916e-01,\n",
       "        1.62874647e-03, -2.80966557e-01, -2.73223592e-01,  3.64240454e-01,\n",
       "       -1.32960551e-02, -1.34755064e-02,  1.27884105e-01, -1.05214251e-01,\n",
       "       -5.71338419e-02,  1.06287184e-01,  7.06039606e-02, -2.89824182e-01,\n",
       "        2.08335649e-01, -1.47608736e-01, -2.64019738e-01, -2.25118767e-01,\n",
       "       -9.76363361e-02,  4.06825064e-01, -2.93883976e-01,  4.00189731e-02,\n",
       "       -5.34456090e-01, -3.91733286e-04,  2.24891604e-01, -5.91658305e-02,\n",
       "       -1.57338731e-01,  5.78777660e-02,  1.75037938e-01,  1.65914393e-01,\n",
       "        4.93118463e-01,  5.22918681e-02, -1.48102525e-01, -3.14947975e-02,\n",
       "       -1.81246364e-02,  2.71843459e-02, -7.50695331e-03,  4.34914847e-02,\n",
       "       -4.17712515e-01,  2.07407239e-01, -1.43684817e-01, -2.93289674e-01,\n",
       "        1.59437790e-01,  3.29331502e-01,  1.23257037e-01,  4.02898285e-02,\n",
       "       -2.33055076e-01,  7.17891834e-01,  2.20064655e-01, -2.84823668e-01,\n",
       "       -1.94909479e-01,  2.17448121e-02, -3.88682783e-01,  4.21576018e-02,\n",
       "       -1.14767889e-01,  3.06567650e-01,  2.40538666e-01, -6.77821359e-01,\n",
       "        1.04256465e-02, -4.04366875e-01,  2.77409500e-01,  4.20264673e-02,\n",
       "        1.37101363e-01, -2.66281182e-01,  4.57107559e-01,  5.05018342e-01])"
      ]
     },
     "execution_count": 8,
     "metadata": {},
     "output_type": "execute_result"
    }
   ],
   "source": [
    "eps = rng.normal(size=100, loc=0, scale=0.25) # loc is mean and scale is standard deviation\n",
    "eps"
   ]
  },
  {
   "cell_type": "markdown",
   "metadata": {},
   "source": [
    "# 13(c)"
   ]
  },
  {
   "cell_type": "code",
   "execution_count": 9,
   "metadata": {},
   "outputs": [
    {
     "data": {
      "text/plain": [
       "array([-1.8995525 , -1.27876349, -1.2206245 , -0.80038265, -2.5341136 ,\n",
       "        1.15770457, -1.78689331, -1.14901757, -0.48430595, -1.37420419,\n",
       "       -1.60753947, -1.64509482, -1.37452041, -1.87111953, -1.41812702,\n",
       "       -1.3531213 , -1.72468023, -1.07190617, -1.28903113, -0.38459004,\n",
       "       -0.67616402, -0.63328744, -3.02036258, -2.47102146, -2.35187884,\n",
       "       -0.69231028, -2.03569652, -1.63719543,  0.41816403, -1.15343702,\n",
       "       -1.58891725, -1.99788001, -0.25613521, -0.40890485, -2.6693844 ,\n",
       "       -1.0537155 , -1.61736743, -2.07168107, -1.51794532, -1.52008376,\n",
       "       -0.83339784, -3.07812387,  0.76309513, -1.5549171 , -2.52186619,\n",
       "       -0.63430364, -1.05793009, -0.22955804, -1.17918428, -1.46885547,\n",
       "       -0.38840101, -1.99737289,  0.11831991, -2.00579381, -1.41245354,\n",
       "       -0.93299931, -1.17933317, -1.38602908, -1.83546865, -0.24381876,\n",
       "       -3.25142285, -2.58455066, -0.86068484, -2.59443421, -0.85425293,\n",
       "       -0.67510336, -0.92565389, -1.78759629, -1.01358304, -0.81558174,\n",
       "       -3.86297088,  2.47616421, -1.57192747, -1.28189352, -0.31148034,\n",
       "       -1.78074098, -2.834434  , -0.5959867 ,  0.24303975, -1.35312985,\n",
       "       -2.09702497, -1.11159694, -1.46688573, -0.22172893, -1.12082317,\n",
       "       -1.67545701, -2.1693151 , -0.99140366, -1.43730116,  0.12965304,\n",
       "       -0.9033288 , -0.34733951, -0.33750666, -1.86252602, -1.85232658,\n",
       "       -0.31545252,  0.07202379, -1.14328075, -1.91841503, -0.7266143 ])"
      ]
     },
     "execution_count": 9,
     "metadata": {},
     "output_type": "execute_result"
    }
   ],
   "source": [
    "# setting epsilon error to standard normal distributed rv\n",
    "y = -1 + 0.5*x + rng.normal(size=100)\n",
    "y"
   ]
  },
  {
   "cell_type": "code",
   "execution_count": 11,
   "metadata": {},
   "outputs": [
    {
     "data": {
      "text/plain": [
       "(100,)"
      ]
     },
     "execution_count": 11,
     "metadata": {},
     "output_type": "execute_result"
    }
   ],
   "source": [
    "y.shape"
   ]
  },
  {
   "cell_type": "markdown",
   "metadata": {},
   "source": [
    "Length of vector y is 100."
   ]
  },
  {
   "cell_type": "code",
   "execution_count": 10,
   "metadata": {},
   "outputs": [
    {
     "data": {
      "text/html": [
       "<div>\n",
       "<style scoped>\n",
       "    .dataframe tbody tr th:only-of-type {\n",
       "        vertical-align: middle;\n",
       "    }\n",
       "\n",
       "    .dataframe tbody tr th {\n",
       "        vertical-align: top;\n",
       "    }\n",
       "\n",
       "    .dataframe thead th {\n",
       "        text-align: right;\n",
       "    }\n",
       "</style>\n",
       "<table border=\"1\" class=\"dataframe\">\n",
       "  <thead>\n",
       "    <tr style=\"text-align: right;\">\n",
       "      <th></th>\n",
       "      <th>intercept</th>\n",
       "      <th>X</th>\n",
       "    </tr>\n",
       "  </thead>\n",
       "  <tbody>\n",
       "    <tr>\n",
       "      <th>0</th>\n",
       "      <td>1.0</td>\n",
       "      <td>0.330437</td>\n",
       "    </tr>\n",
       "    <tr>\n",
       "      <th>1</th>\n",
       "      <td>1.0</td>\n",
       "      <td>-1.303157</td>\n",
       "    </tr>\n",
       "    <tr>\n",
       "      <th>2</th>\n",
       "      <td>1.0</td>\n",
       "      <td>0.905356</td>\n",
       "    </tr>\n",
       "    <tr>\n",
       "      <th>3</th>\n",
       "      <td>1.0</td>\n",
       "      <td>0.446375</td>\n",
       "    </tr>\n",
       "    <tr>\n",
       "      <th>4</th>\n",
       "      <td>1.0</td>\n",
       "      <td>-0.536953</td>\n",
       "    </tr>\n",
       "    <tr>\n",
       "      <th>...</th>\n",
       "      <td>...</td>\n",
       "      <td>...</td>\n",
       "    </tr>\n",
       "    <tr>\n",
       "      <th>95</th>\n",
       "      <td>1.0</td>\n",
       "      <td>0.033000</td>\n",
       "    </tr>\n",
       "    <tr>\n",
       "      <th>96</th>\n",
       "      <td>1.0</td>\n",
       "      <td>-1.425349</td>\n",
       "    </tr>\n",
       "    <tr>\n",
       "      <th>97</th>\n",
       "      <td>1.0</td>\n",
       "      <td>0.332814</td>\n",
       "    </tr>\n",
       "    <tr>\n",
       "      <th>98</th>\n",
       "      <td>1.0</td>\n",
       "      <td>-0.651281</td>\n",
       "    </tr>\n",
       "    <tr>\n",
       "      <th>99</th>\n",
       "      <td>1.0</td>\n",
       "      <td>0.862445</td>\n",
       "    </tr>\n",
       "  </tbody>\n",
       "</table>\n",
       "<p>100 rows × 2 columns</p>\n",
       "</div>"
      ],
      "text/plain": [
       "    intercept         X\n",
       "0         1.0  0.330437\n",
       "1         1.0 -1.303157\n",
       "2         1.0  0.905356\n",
       "3         1.0  0.446375\n",
       "4         1.0 -0.536953\n",
       "..        ...       ...\n",
       "95        1.0  0.033000\n",
       "96        1.0 -1.425349\n",
       "97        1.0  0.332814\n",
       "98        1.0 -0.651281\n",
       "99        1.0  0.862445\n",
       "\n",
       "[100 rows x 2 columns]"
      ]
     },
     "execution_count": 10,
     "metadata": {},
     "output_type": "execute_result"
    }
   ],
   "source": [
    "X_model_matrix = pd.DataFrame({\"intercept\":np.ones(100), \"X\":x})\n",
    "X_model_matrix"
   ]
  },
  {
   "cell_type": "code",
   "execution_count": 12,
   "metadata": {},
   "outputs": [
    {
     "data": {
      "text/html": [
       "<table class=\"simpletable\">\n",
       "<caption>OLS Regression Results</caption>\n",
       "<tr>\n",
       "  <th>Dep. Variable:</th>            <td>y</td>        <th>  R-squared:         </th> <td>   0.166</td>\n",
       "</tr>\n",
       "<tr>\n",
       "  <th>Model:</th>                   <td>OLS</td>       <th>  Adj. R-squared:    </th> <td>   0.158</td>\n",
       "</tr>\n",
       "<tr>\n",
       "  <th>Method:</th>             <td>Least Squares</td>  <th>  F-statistic:       </th> <td>   19.54</td>\n",
       "</tr>\n",
       "<tr>\n",
       "  <th>Date:</th>             <td>Mon, 09 Oct 2023</td> <th>  Prob (F-statistic):</th> <td>2.55e-05</td>\n",
       "</tr>\n",
       "<tr>\n",
       "  <th>Time:</th>                 <td>19:13:41</td>     <th>  Log-Likelihood:    </th> <td> -127.15</td>\n",
       "</tr>\n",
       "<tr>\n",
       "  <th>No. Observations:</th>      <td>   100</td>      <th>  AIC:               </th> <td>   258.3</td>\n",
       "</tr>\n",
       "<tr>\n",
       "  <th>Df Residuals:</th>          <td>    98</td>      <th>  BIC:               </th> <td>   263.5</td>\n",
       "</tr>\n",
       "<tr>\n",
       "  <th>Df Model:</th>              <td>     1</td>      <th>                     </th>     <td> </td>   \n",
       "</tr>\n",
       "<tr>\n",
       "  <th>Covariance Type:</th>      <td>nonrobust</td>    <th>                     </th>     <td> </td>   \n",
       "</tr>\n",
       "</table>\n",
       "<table class=\"simpletable\">\n",
       "<tr>\n",
       "      <td></td>         <th>coef</th>     <th>std err</th>      <th>t</th>      <th>P>|t|</th>  <th>[0.025</th>    <th>0.975]</th>  \n",
       "</tr>\n",
       "<tr>\n",
       "  <th>intercept</th> <td>   -1.2110</td> <td>    0.088</td> <td>  -13.827</td> <td> 0.000</td> <td>   -1.385</td> <td>   -1.037</td>\n",
       "</tr>\n",
       "<tr>\n",
       "  <th>X</th>         <td>    0.4518</td> <td>    0.102</td> <td>    4.421</td> <td> 0.000</td> <td>    0.249</td> <td>    0.655</td>\n",
       "</tr>\n",
       "</table>\n",
       "<table class=\"simpletable\">\n",
       "<tr>\n",
       "  <th>Omnibus:</th>       <td>10.891</td> <th>  Durbin-Watson:     </th> <td>   2.687</td>\n",
       "</tr>\n",
       "<tr>\n",
       "  <th>Prob(Omnibus):</th> <td> 0.004</td> <th>  Jarque-Bera (JB):  </th> <td>  15.665</td>\n",
       "</tr>\n",
       "<tr>\n",
       "  <th>Skew:</th>          <td> 0.499</td> <th>  Prob(JB):          </th> <td>0.000397</td>\n",
       "</tr>\n",
       "<tr>\n",
       "  <th>Kurtosis:</th>      <td> 4.663</td> <th>  Cond. No.          </th> <td>    1.20</td>\n",
       "</tr>\n",
       "</table><br/><br/>Notes:<br/>[1] Standard Errors assume that the covariance matrix of the errors is correctly specified."
      ],
      "text/latex": [
       "\\begin{center}\n",
       "\\begin{tabular}{lclc}\n",
       "\\toprule\n",
       "\\textbf{Dep. Variable:}    &        y         & \\textbf{  R-squared:         } &     0.166   \\\\\n",
       "\\textbf{Model:}            &       OLS        & \\textbf{  Adj. R-squared:    } &     0.158   \\\\\n",
       "\\textbf{Method:}           &  Least Squares   & \\textbf{  F-statistic:       } &     19.54   \\\\\n",
       "\\textbf{Date:}             & Mon, 09 Oct 2023 & \\textbf{  Prob (F-statistic):} &  2.55e-05   \\\\\n",
       "\\textbf{Time:}             &     19:13:41     & \\textbf{  Log-Likelihood:    } &   -127.15   \\\\\n",
       "\\textbf{No. Observations:} &         100      & \\textbf{  AIC:               } &     258.3   \\\\\n",
       "\\textbf{Df Residuals:}     &          98      & \\textbf{  BIC:               } &     263.5   \\\\\n",
       "\\textbf{Df Model:}         &           1      & \\textbf{                     } &             \\\\\n",
       "\\textbf{Covariance Type:}  &    nonrobust     & \\textbf{                     } &             \\\\\n",
       "\\bottomrule\n",
       "\\end{tabular}\n",
       "\\begin{tabular}{lcccccc}\n",
       "                   & \\textbf{coef} & \\textbf{std err} & \\textbf{t} & \\textbf{P$> |$t$|$} & \\textbf{[0.025} & \\textbf{0.975]}  \\\\\n",
       "\\midrule\n",
       "\\textbf{intercept} &      -1.2110  &        0.088     &   -13.827  &         0.000        &       -1.385    &       -1.037     \\\\\n",
       "\\textbf{X}         &       0.4518  &        0.102     &     4.421  &         0.000        &        0.249    &        0.655     \\\\\n",
       "\\bottomrule\n",
       "\\end{tabular}\n",
       "\\begin{tabular}{lclc}\n",
       "\\textbf{Omnibus:}       & 10.891 & \\textbf{  Durbin-Watson:     } &    2.687  \\\\\n",
       "\\textbf{Prob(Omnibus):} &  0.004 & \\textbf{  Jarque-Bera (JB):  } &   15.665  \\\\\n",
       "\\textbf{Skew:}          &  0.499 & \\textbf{  Prob(JB):          } & 0.000397  \\\\\n",
       "\\textbf{Kurtosis:}      &  4.663 & \\textbf{  Cond. No.          } &     1.20  \\\\\n",
       "\\bottomrule\n",
       "\\end{tabular}\n",
       "%\\caption{OLS Regression Results}\n",
       "\\end{center}\n",
       "\n",
       "Notes: \\newline\n",
       " [1] Standard Errors assume that the covariance matrix of the errors is correctly specified."
      ],
      "text/plain": [
       "<class 'statsmodels.iolib.summary.Summary'>\n",
       "\"\"\"\n",
       "                            OLS Regression Results                            \n",
       "==============================================================================\n",
       "Dep. Variable:                      y   R-squared:                       0.166\n",
       "Model:                            OLS   Adj. R-squared:                  0.158\n",
       "Method:                 Least Squares   F-statistic:                     19.54\n",
       "Date:                Mon, 09 Oct 2023   Prob (F-statistic):           2.55e-05\n",
       "Time:                        19:13:41   Log-Likelihood:                -127.15\n",
       "No. Observations:                 100   AIC:                             258.3\n",
       "Df Residuals:                      98   BIC:                             263.5\n",
       "Df Model:                           1                                         \n",
       "Covariance Type:            nonrobust                                         \n",
       "==============================================================================\n",
       "                 coef    std err          t      P>|t|      [0.025      0.975]\n",
       "------------------------------------------------------------------------------\n",
       "intercept     -1.2110      0.088    -13.827      0.000      -1.385      -1.037\n",
       "X              0.4518      0.102      4.421      0.000       0.249       0.655\n",
       "==============================================================================\n",
       "Omnibus:                       10.891   Durbin-Watson:                   2.687\n",
       "Prob(Omnibus):                  0.004   Jarque-Bera (JB):               15.665\n",
       "Skew:                           0.499   Prob(JB):                     0.000397\n",
       "Kurtosis:                       4.663   Cond. No.                         1.20\n",
       "==============================================================================\n",
       "\n",
       "Notes:\n",
       "[1] Standard Errors assume that the covariance matrix of the errors is correctly specified.\n",
       "\"\"\""
      ]
     },
     "execution_count": 12,
     "metadata": {},
     "output_type": "execute_result"
    }
   ],
   "source": [
    "result = sm.OLS(y, X_model_matrix).fit()\n",
    "result.summary()"
   ]
  },
  {
   "cell_type": "markdown",
   "metadata": {},
   "source": [
    "#### Value of B0 is -1 and B1 is 0.5.(It actually asked true coefficient values of the model)"
   ]
  },
  {
   "cell_type": "markdown",
   "metadata": {},
   "source": [
    "# 13(d)"
   ]
  },
  {
   "cell_type": "code",
   "execution_count": 13,
   "metadata": {},
   "outputs": [
    {
     "data": {
      "image/png": "[encoded data removed]",
      "text/plain": [
       "<Figure size 600x600 with 1 Axes>"
      ]
     },
     "metadata": {},
     "output_type": "display_data"
    }
   ],
   "source": [
    "ax = plt.subplots(figsize=(6, 6))[1]\n",
    "ax.scatter(x, y)\n",
    "ax.set_xlabel(\"X\")\n",
    "ax.set_ylabel(\"y\");"
   ]
  },
  {
   "cell_type": "markdown",
   "metadata": {},
   "source": [
    "There seems to be no particular relation, however we can see it from a coarse point of view that y has almost linear relationship with X.\n",
    "\n",
    "and there seems to be no evidence of high leverage point or outliers.\n",
    "\n",
    "another observation, The point seems to be mostly dense near 0, Because y has standard deviation of 0.25 and x has standard deviation of 1."
   ]
  },
  {
   "cell_type": "markdown",
   "metadata": {},
   "source": [
    "# 13(e)"
   ]
  },
  {
   "cell_type": "markdown",
   "metadata": {},
   "source": [
    "From 12(c), when we fit a linear regression model, we see that B0 = -1.2110 and B1 is 0.4518.\n",
    "\n",
    "well estimated B0 is withing 17.4% error and estimated B1 is within 10.7% error and true B0 and true B1 lies withing the confidence interval."
   ]
  },
  {
   "cell_type": "markdown",
   "metadata": {},
   "source": [
    "# 13(f)"
   ]
  },
  {
   "cell_type": "code",
   "execution_count": 17,
   "metadata": {},
   "outputs": [
    {
     "data": {
      "text/plain": [
       "0.451815473813206"
      ]
     },
     "execution_count": 17,
     "metadata": {},
     "output_type": "execute_result"
    }
   ],
   "source": [
    "result.params[1]"
   ]
  },
  {
   "cell_type": "code",
   "execution_count": 19,
   "metadata": {},
   "outputs": [],
   "source": [
    "def abline(ax, slope, intercept, labelx,*args, **kwargs):\n",
    "    x_vals = np.array(ax.get_xlim())\n",
    "    y_vals = x_vals*slope + intercept\n",
    "    ax.plot(x_vals, y_vals, label=labelx,*args, **kwargs)"
   ]
  },
  {
   "cell_type": "code",
   "execution_count": 24,
   "metadata": {},
   "outputs": [
    {
     "data": {
      "image/png": "[encoded data removed]",
      "text/plain": [
       "<Figure size 800x800 with 1 Axes>"
      ]
     },
     "metadata": {},
     "output_type": "display_data"
    }
   ],
   "source": [
    "fig, ax = plt.subplots(figsize=(8, 8))\n",
    "ax.scatter(x, y)\n",
    "ax.set_xlabel(\"X\")\n",
    "ax.set_ylabel(\"y\")\n",
    "abline(ax, result.params[1], result.params[0], \"least squares lines\", color=\"r\", linestyle=\"--\", linewidth=2)\n",
    "abline(ax, 0.5, -1, \"population line\", color=\"g\", linestyle=\"--\",linewidth=2)\n",
    "ax.legend();"
   ]
  },
  {
   "cell_type": "markdown",
   "metadata": {},
   "source": [
    "# 13(g)"
   ]
  },
  {
   "cell_type": "code",
   "execution_count": 25,
   "metadata": {},
   "outputs": [
    {
     "data": {
      "text/html": [
       "<table class=\"simpletable\">\n",
       "<caption>OLS Regression Results</caption>\n",
       "<tr>\n",
       "  <th>Dep. Variable:</th>            <td>y</td>        <th>  R-squared:         </th> <td>   0.166</td>\n",
       "</tr>\n",
       "<tr>\n",
       "  <th>Model:</th>                   <td>OLS</td>       <th>  Adj. R-squared:    </th> <td>   0.149</td>\n",
       "</tr>\n",
       "<tr>\n",
       "  <th>Method:</th>             <td>Least Squares</td>  <th>  F-statistic:       </th> <td>   9.679</td>\n",
       "</tr>\n",
       "<tr>\n",
       "  <th>Date:</th>             <td>Mon, 09 Oct 2023</td> <th>  Prob (F-statistic):</th> <td>0.000147</td>\n",
       "</tr>\n",
       "<tr>\n",
       "  <th>Time:</th>                 <td>19:37:43</td>     <th>  Log-Likelihood:    </th> <td> -127.15</td>\n",
       "</tr>\n",
       "<tr>\n",
       "  <th>No. Observations:</th>      <td>   100</td>      <th>  AIC:               </th> <td>   260.3</td>\n",
       "</tr>\n",
       "<tr>\n",
       "  <th>Df Residuals:</th>          <td>    97</td>      <th>  BIC:               </th> <td>   268.1</td>\n",
       "</tr>\n",
       "<tr>\n",
       "  <th>Df Model:</th>              <td>     2</td>      <th>                     </th>     <td> </td>   \n",
       "</tr>\n",
       "<tr>\n",
       "  <th>Covariance Type:</th>      <td>nonrobust</td>    <th>                     </th>     <td> </td>   \n",
       "</tr>\n",
       "</table>\n",
       "<table class=\"simpletable\">\n",
       "<tr>\n",
       "      <td></td>         <th>coef</th>     <th>std err</th>      <th>t</th>      <th>P>|t|</th>  <th>[0.025</th>    <th>0.975]</th>  \n",
       "</tr>\n",
       "<tr>\n",
       "  <th>intercept</th> <td>   -1.2176</td> <td>    0.104</td> <td>  -11.742</td> <td> 0.000</td> <td>   -1.423</td> <td>   -1.012</td>\n",
       "</tr>\n",
       "<tr>\n",
       "  <th>X</th>         <td>    0.4564</td> <td>    0.110</td> <td>    4.166</td> <td> 0.000</td> <td>    0.239</td> <td>    0.674</td>\n",
       "</tr>\n",
       "<tr>\n",
       "  <th>X**2</th>      <td>    0.0095</td> <td>    0.079</td> <td>    0.120</td> <td> 0.905</td> <td>   -0.147</td> <td>    0.166</td>\n",
       "</tr>\n",
       "</table>\n",
       "<table class=\"simpletable\">\n",
       "<tr>\n",
       "  <th>Omnibus:</th>       <td>10.869</td> <th>  Durbin-Watson:     </th> <td>   2.686</td>\n",
       "</tr>\n",
       "<tr>\n",
       "  <th>Prob(Omnibus):</th> <td> 0.004</td> <th>  Jarque-Bera (JB):  </th> <td>  15.662</td>\n",
       "</tr>\n",
       "<tr>\n",
       "  <th>Skew:</th>          <td> 0.497</td> <th>  Prob(JB):          </th> <td>0.000397</td>\n",
       "</tr>\n",
       "<tr>\n",
       "  <th>Kurtosis:</th>      <td> 4.665</td> <th>  Cond. No.          </th> <td>    2.22</td>\n",
       "</tr>\n",
       "</table><br/><br/>Notes:<br/>[1] Standard Errors assume that the covariance matrix of the errors is correctly specified."
      ],
      "text/latex": [
       "\\begin{center}\n",
       "\\begin{tabular}{lclc}\n",
       "\\toprule\n",
       "\\textbf{Dep. Variable:}    &        y         & \\textbf{  R-squared:         } &     0.166   \\\\\n",
       "\\textbf{Model:}            &       OLS        & \\textbf{  Adj. R-squared:    } &     0.149   \\\\\n",
       "\\textbf{Method:}           &  Least Squares   & \\textbf{  F-statistic:       } &     9.679   \\\\\n",
       "\\textbf{Date:}             & Mon, 09 Oct 2023 & \\textbf{  Prob (F-statistic):} &  0.000147   \\\\\n",
       "\\textbf{Time:}             &     19:37:43     & \\textbf{  Log-Likelihood:    } &   -127.15   \\\\\n",
       "\\textbf{No. Observations:} &         100      & \\textbf{  AIC:               } &     260.3   \\\\\n",
       "\\textbf{Df Residuals:}     &          97      & \\textbf{  BIC:               } &     268.1   \\\\\n",
       "\\textbf{Df Model:}         &           2      & \\textbf{                     } &             \\\\\n",
       "\\textbf{Covariance Type:}  &    nonrobust     & \\textbf{                     } &             \\\\\n",
       "\\bottomrule\n",
       "\\end{tabular}\n",
       "\\begin{tabular}{lcccccc}\n",
       "                   & \\textbf{coef} & \\textbf{std err} & \\textbf{t} & \\textbf{P$> |$t$|$} & \\textbf{[0.025} & \\textbf{0.975]}  \\\\\n",
       "\\midrule\n",
       "\\textbf{intercept} &      -1.2176  &        0.104     &   -11.742  &         0.000        &       -1.423    &       -1.012     \\\\\n",
       "\\textbf{X}         &       0.4564  &        0.110     &     4.166  &         0.000        &        0.239    &        0.674     \\\\\n",
       "\\textbf{X**2}      &       0.0095  &        0.079     &     0.120  &         0.905        &       -0.147    &        0.166     \\\\\n",
       "\\bottomrule\n",
       "\\end{tabular}\n",
       "\\begin{tabular}{lclc}\n",
       "\\textbf{Omnibus:}       & 10.869 & \\textbf{  Durbin-Watson:     } &    2.686  \\\\\n",
       "\\textbf{Prob(Omnibus):} &  0.004 & \\textbf{  Jarque-Bera (JB):  } &   15.662  \\\\\n",
       "\\textbf{Skew:}          &  0.497 & \\textbf{  Prob(JB):          } & 0.000397  \\\\\n",
       "\\textbf{Kurtosis:}      &  4.665 & \\textbf{  Cond. No.          } &     2.22  \\\\\n",
       "\\bottomrule\n",
       "\\end{tabular}\n",
       "%\\caption{OLS Regression Results}\n",
       "\\end{center}\n",
       "\n",
       "Notes: \\newline\n",
       " [1] Standard Errors assume that the covariance matrix of the errors is correctly specified."
      ],
      "text/plain": [
       "<class 'statsmodels.iolib.summary.Summary'>\n",
       "\"\"\"\n",
       "                            OLS Regression Results                            \n",
       "==============================================================================\n",
       "Dep. Variable:                      y   R-squared:                       0.166\n",
       "Model:                            OLS   Adj. R-squared:                  0.149\n",
       "Method:                 Least Squares   F-statistic:                     9.679\n",
       "Date:                Mon, 09 Oct 2023   Prob (F-statistic):           0.000147\n",
       "Time:                        19:37:43   Log-Likelihood:                -127.15\n",
       "No. Observations:                 100   AIC:                             260.3\n",
       "Df Residuals:                      97   BIC:                             268.1\n",
       "Df Model:                           2                                         \n",
       "Covariance Type:            nonrobust                                         \n",
       "==============================================================================\n",
       "                 coef    std err          t      P>|t|      [0.025      0.975]\n",
       "------------------------------------------------------------------------------\n",
       "intercept     -1.2176      0.104    -11.742      0.000      -1.423      -1.012\n",
       "X              0.4564      0.110      4.166      0.000       0.239       0.674\n",
       "X**2           0.0095      0.079      0.120      0.905      -0.147       0.166\n",
       "==============================================================================\n",
       "Omnibus:                       10.869   Durbin-Watson:                   2.686\n",
       "Prob(Omnibus):                  0.004   Jarque-Bera (JB):               15.662\n",
       "Skew:                           0.497   Prob(JB):                     0.000397\n",
       "Kurtosis:                       4.665   Cond. No.                         2.22\n",
       "==============================================================================\n",
       "\n",
       "Notes:\n",
       "[1] Standard Errors assume that the covariance matrix of the errors is correctly specified.\n",
       "\"\"\""
      ]
     },
     "execution_count": 25,
     "metadata": {},
     "output_type": "execute_result"
    }
   ],
   "source": [
    "X_model_matrix_new = pd.DataFrame({\"intercept\":np.ones(100), \"X\":x, \"X**2\":x**2})\n",
    "result_new = sm.OLS(y, X_model_matrix_new).fit()\n",
    "result_new.summary()"
   ]
  },
  {
   "cell_type": "markdown",
   "metadata": {},
   "source": [
    "#### We can see that the t-statistic value for X**2 is pretty low and therefore p-value for that coefficient is high, so there's an evidence that we can follow null hypothesis for this coefficient estimate.\n",
    "\n",
    "#### Therefore there is no evidence that the quadratic term improves the model fit. We can even see the R-squared value, it hasn't even changed one bit."
   ]
  },
  {
   "cell_type": "markdown",
   "metadata": {},
   "source": [
    "# 13(h)"
   ]
  },
  {
   "cell_type": "markdown",
   "metadata": {},
   "source": [
    "##### now `decrease the noise` by decreasing the standard deviation of the normal distribution which is used to generate the error term"
   ]
  },
  {
   "cell_type": "code",
   "execution_count": 26,
   "metadata": {},
   "outputs": [
    {
     "data": {
      "text/plain": [
       "array([-0.93103752, -1.79187448, -0.51968334, -0.83499622, -0.9807019 ,\n",
       "       -0.70940062, -0.75293141, -0.66252938, -1.04594005, -0.4392962 ,\n",
       "       -1.49476589, -1.24312051, -1.31431306, -0.72352037, -1.26040259,\n",
       "       -1.15324733, -1.72445155, -0.85016844, -1.0121283 , -1.266193  ,\n",
       "       -0.53463572, -0.57352394, -2.40019713, -2.15340882, -1.27134506,\n",
       "       -1.24853021, -0.99733525, -0.70349641,  0.28649345, -1.55280614,\n",
       "       -1.09408259, -0.24565187, -0.54916496, -0.67458501, -1.16006952,\n",
       "       -1.50396636, -1.37243918, -0.89330332, -1.83349984, -1.22317399,\n",
       "       -1.29868453, -1.57145572, -1.00858823, -0.82955661, -0.96724806,\n",
       "       -1.41171202, -0.81383241, -0.37751594, -0.84067577, -1.74587799,\n",
       "       -0.46544132, -1.16747031, -0.38573658, -1.6032192 , -0.37713509,\n",
       "       -1.22224471, -1.51037448, -1.2550258 , -0.83807852, -0.66247551,\n",
       "       -1.63829209, -1.56393242, -0.89241681, -0.99544184, -0.74013558,\n",
       "       -0.86409575, -1.73287203, -0.7237881 ,  0.03708466, -1.48459324,\n",
       "       -1.51267775, -0.35720385, -1.1442908 , -0.79195058, -1.06919142,\n",
       "       -1.5372274 , -1.18874148, -1.11488864, -0.58894704, -0.59943377,\n",
       "       -1.8157283 , -1.39953208, -0.73872905, -0.69709326, -1.33946257,\n",
       "       -0.77270281, -0.66129062, -0.91614846, -0.42548535, -0.71763093,\n",
       "       -1.06974331, -1.1809565 , -0.51088925, -2.46442562, -1.03157906,\n",
       "       -0.93658436, -1.88578019, -0.68510394, -1.60023389, -0.67914017])"
      ]
     },
     "execution_count": 26,
     "metadata": {},
     "output_type": "execute_result"
    }
   ],
   "source": [
    "y1 = -1 + 0.5*x + rng.normal(loc=0, scale=0.2, size=100)\n",
    "y1"
   ]
  },
  {
   "cell_type": "code",
   "execution_count": 27,
   "metadata": {},
   "outputs": [
    {
     "data": {
      "image/png": "[encoded data removed]",
      "text/plain": [
       "<Figure size 600x600 with 1 Axes>"
      ]
     },
     "metadata": {},
     "output_type": "display_data"
    }
   ],
   "source": [
    "ax = plt.subplots(figsize=(6, 6))[1]\n",
    "ax.scatter(x, y1)\n",
    "ax.set_xlabel(\"X\")\n",
    "ax.set_ylabel(\"y1\");"
   ]
  },
  {
   "cell_type": "markdown",
   "metadata": {},
   "source": [
    "AHA! We can now see the low noise."
   ]
  },
  {
   "cell_type": "code",
   "execution_count": 38,
   "metadata": {},
   "outputs": [
    {
     "data": {
      "text/html": [
       "<table class=\"simpletable\">\n",
       "<caption>OLS Regression Results</caption>\n",
       "<tr>\n",
       "  <th>Dep. Variable:</th>            <td>y</td>        <th>  R-squared:         </th> <td>   0.871</td>\n",
       "</tr>\n",
       "<tr>\n",
       "  <th>Model:</th>                   <td>OLS</td>       <th>  Adj. R-squared:    </th> <td>   0.870</td>\n",
       "</tr>\n",
       "<tr>\n",
       "  <th>Method:</th>             <td>Least Squares</td>  <th>  F-statistic:       </th> <td>   661.6</td>\n",
       "</tr>\n",
       "<tr>\n",
       "  <th>Date:</th>             <td>Mon, 09 Oct 2023</td> <th>  Prob (F-statistic):</th> <td>2.27e-45</td>\n",
       "</tr>\n",
       "<tr>\n",
       "  <th>Time:</th>                 <td>19:55:57</td>     <th>  Log-Likelihood:    </th> <td>  32.796</td>\n",
       "</tr>\n",
       "<tr>\n",
       "  <th>No. Observations:</th>      <td>   100</td>      <th>  AIC:               </th> <td>  -61.59</td>\n",
       "</tr>\n",
       "<tr>\n",
       "  <th>Df Residuals:</th>          <td>    98</td>      <th>  BIC:               </th> <td>  -56.38</td>\n",
       "</tr>\n",
       "<tr>\n",
       "  <th>Df Model:</th>              <td>     1</td>      <th>                     </th>     <td> </td>   \n",
       "</tr>\n",
       "<tr>\n",
       "  <th>Covariance Type:</th>      <td>nonrobust</td>    <th>                     </th>     <td> </td>   \n",
       "</tr>\n",
       "</table>\n",
       "<table class=\"simpletable\">\n",
       "<tr>\n",
       "      <td></td>         <th>coef</th>     <th>std err</th>      <th>t</th>      <th>P>|t|</th>  <th>[0.025</th>    <th>0.975]</th>  \n",
       "</tr>\n",
       "<tr>\n",
       "  <th>intercept</th> <td>   -1.0038</td> <td>    0.018</td> <td>  -56.735</td> <td> 0.000</td> <td>   -1.039</td> <td>   -0.969</td>\n",
       "</tr>\n",
       "<tr>\n",
       "  <th>X</th>         <td>    0.5311</td> <td>    0.021</td> <td>   25.722</td> <td> 0.000</td> <td>    0.490</td> <td>    0.572</td>\n",
       "</tr>\n",
       "</table>\n",
       "<table class=\"simpletable\">\n",
       "<tr>\n",
       "  <th>Omnibus:</th>       <td> 1.199</td> <th>  Durbin-Watson:     </th> <td>   2.360</td>\n",
       "</tr>\n",
       "<tr>\n",
       "  <th>Prob(Omnibus):</th> <td> 0.549</td> <th>  Jarque-Bera (JB):  </th> <td>   1.133</td>\n",
       "</tr>\n",
       "<tr>\n",
       "  <th>Skew:</th>          <td>-0.111</td> <th>  Prob(JB):          </th> <td>   0.568</td>\n",
       "</tr>\n",
       "<tr>\n",
       "  <th>Kurtosis:</th>      <td> 2.528</td> <th>  Cond. No.          </th> <td>    1.20</td>\n",
       "</tr>\n",
       "</table><br/><br/>Notes:<br/>[1] Standard Errors assume that the covariance matrix of the errors is correctly specified."
      ],
      "text/latex": [
       "\\begin{center}\n",
       "\\begin{tabular}{lclc}\n",
       "\\toprule\n",
       "\\textbf{Dep. Variable:}    &        y         & \\textbf{  R-squared:         } &     0.871   \\\\\n",
       "\\textbf{Model:}            &       OLS        & \\textbf{  Adj. R-squared:    } &     0.870   \\\\\n",
       "\\textbf{Method:}           &  Least Squares   & \\textbf{  F-statistic:       } &     661.6   \\\\\n",
       "\\textbf{Date:}             & Mon, 09 Oct 2023 & \\textbf{  Prob (F-statistic):} &  2.27e-45   \\\\\n",
       "\\textbf{Time:}             &     19:55:57     & \\textbf{  Log-Likelihood:    } &    32.796   \\\\\n",
       "\\textbf{No. Observations:} &         100      & \\textbf{  AIC:               } &    -61.59   \\\\\n",
       "\\textbf{Df Residuals:}     &          98      & \\textbf{  BIC:               } &    -56.38   \\\\\n",
       "\\textbf{Df Model:}         &           1      & \\textbf{                     } &             \\\\\n",
       "\\textbf{Covariance Type:}  &    nonrobust     & \\textbf{                     } &             \\\\\n",
       "\\bottomrule\n",
       "\\end{tabular}\n",
       "\\begin{tabular}{lcccccc}\n",
       "                   & \\textbf{coef} & \\textbf{std err} & \\textbf{t} & \\textbf{P$> |$t$|$} & \\textbf{[0.025} & \\textbf{0.975]}  \\\\\n",
       "\\midrule\n",
       "\\textbf{intercept} &      -1.0038  &        0.018     &   -56.735  &         0.000        &       -1.039    &       -0.969     \\\\\n",
       "\\textbf{X}         &       0.5311  &        0.021     &    25.722  &         0.000        &        0.490    &        0.572     \\\\\n",
       "\\bottomrule\n",
       "\\end{tabular}\n",
       "\\begin{tabular}{lclc}\n",
       "\\textbf{Omnibus:}       &  1.199 & \\textbf{  Durbin-Watson:     } &    2.360  \\\\\n",
       "\\textbf{Prob(Omnibus):} &  0.549 & \\textbf{  Jarque-Bera (JB):  } &    1.133  \\\\\n",
       "\\textbf{Skew:}          & -0.111 & \\textbf{  Prob(JB):          } &    0.568  \\\\\n",
       "\\textbf{Kurtosis:}      &  2.528 & \\textbf{  Cond. No.          } &     1.20  \\\\\n",
       "\\bottomrule\n",
       "\\end{tabular}\n",
       "%\\caption{OLS Regression Results}\n",
       "\\end{center}\n",
       "\n",
       "Notes: \\newline\n",
       " [1] Standard Errors assume that the covariance matrix of the errors is correctly specified."
      ],
      "text/plain": [
       "<class 'statsmodels.iolib.summary.Summary'>\n",
       "\"\"\"\n",
       "                            OLS Regression Results                            \n",
       "==============================================================================\n",
       "Dep. Variable:                      y   R-squared:                       0.871\n",
       "Model:                            OLS   Adj. R-squared:                  0.870\n",
       "Method:                 Least Squares   F-statistic:                     661.6\n",
       "Date:                Mon, 09 Oct 2023   Prob (F-statistic):           2.27e-45\n",
       "Time:                        19:55:57   Log-Likelihood:                 32.796\n",
       "No. Observations:                 100   AIC:                            -61.59\n",
       "Df Residuals:                      98   BIC:                            -56.38\n",
       "Df Model:                           1                                         \n",
       "Covariance Type:            nonrobust                                         \n",
       "==============================================================================\n",
       "                 coef    std err          t      P>|t|      [0.025      0.975]\n",
       "------------------------------------------------------------------------------\n",
       "intercept     -1.0038      0.018    -56.735      0.000      -1.039      -0.969\n",
       "X              0.5311      0.021     25.722      0.000       0.490       0.572\n",
       "==============================================================================\n",
       "Omnibus:                        1.199   Durbin-Watson:                   2.360\n",
       "Prob(Omnibus):                  0.549   Jarque-Bera (JB):                1.133\n",
       "Skew:                          -0.111   Prob(JB):                        0.568\n",
       "Kurtosis:                       2.528   Cond. No.                         1.20\n",
       "==============================================================================\n",
       "\n",
       "Notes:\n",
       "[1] Standard Errors assume that the covariance matrix of the errors is correctly specified.\n",
       "\"\"\""
      ]
     },
     "execution_count": 38,
     "metadata": {},
     "output_type": "execute_result"
    }
   ],
   "source": [
    "X_model_matrix1 = pd.DataFrame({\"intercept\":np.ones(100), \"X\":x})\n",
    "result1 = sm.OLS(y1, X_model_matrix1).fit()\n",
    "result1.summary()"
   ]
  },
  {
   "cell_type": "markdown",
   "metadata": {},
   "source": [
    "1) B0 is -1.0038 and B1 is 0.5311.\n",
    "2) Their error rates from original values are 0.3% for B0 and 5.85% for B1. Pretty low because of low noise."
   ]
  },
  {
   "cell_type": "code",
   "execution_count": 39,
   "metadata": {},
   "outputs": [
    {
     "data": {
      "image/png": "[encoded data removed]",
      "text/plain": [
       "<Figure size 800x800 with 1 Axes>"
      ]
     },
     "metadata": {},
     "output_type": "display_data"
    }
   ],
   "source": [
    "fig, ax = plt.subplots(figsize=(8, 8))\n",
    "ax.scatter(x, y1)\n",
    "ax.set_xlabel(\"X\")\n",
    "ax.set_ylabel(\"y1\")\n",
    "abline(ax, result1.params[1], result1.params[0], \"least squares lines\", color=\"r\", linestyle=\"--\", linewidth=2)\n",
    "abline(ax, 0.5, -1, \"population line\", color=\"g\", linestyle=\"--\",linewidth=2)\n",
    "ax.legend();"
   ]
  },
  {
   "cell_type": "markdown",
   "metadata": {},
   "source": [
    "# 13(i)"
   ]
  },
  {
   "cell_type": "markdown",
   "metadata": {},
   "source": [
    "## Now doing the same but now by `increasing the noise`."
   ]
  },
  {
   "cell_type": "code",
   "execution_count": 32,
   "metadata": {},
   "outputs": [
    {
     "data": {
      "text/plain": [
       "array([-3.60960793e+00, -3.80661961e+00, -2.94904828e+00,  1.44392289e+00,\n",
       "       -3.04464634e+00,  6.27871878e-01,  3.57306503e-01, -3.33592930e-01,\n",
       "       -3.60094669e+00, -1.95085626e+00,  1.97800290e+00, -3.66296377e+00,\n",
       "       -2.90436958e+00, -1.02506994e+00,  6.37841198e-01, -6.42949994e-01,\n",
       "        9.31340874e-02, -3.26318459e+00,  8.93624278e-01,  2.56180508e-04,\n",
       "       -3.54209720e+00,  2.58319457e+00,  2.22921448e+00, -3.48166134e+00,\n",
       "       -9.76080413e-01,  1.58374996e+00, -3.85565896e+00, -4.87105967e+00,\n",
       "       -2.53496887e+00, -2.69014395e+00, -2.34568693e+00,  1.23608015e+00,\n",
       "       -1.39575758e-01, -3.16062284e+00, -1.22243246e-01,  1.92412510e+00,\n",
       "        1.47784093e+00,  1.03672194e+00, -1.57332017e+00,  6.25649458e-01,\n",
       "       -2.96828748e+00,  2.96534625e-02, -1.22363182e+00,  1.30955291e+00,\n",
       "       -5.01857790e-02, -3.43290540e+00, -4.47140057e-01,  1.88202642e+00,\n",
       "       -3.09804362e+00, -2.52739487e+00, -2.17151987e+00, -4.24201189e+00,\n",
       "        1.36211686e+00,  1.08610090e+00,  1.05732002e+00, -5.24891096e-01,\n",
       "       -1.72843721e+00, -6.78189135e-01, -2.43606069e+00,  9.24086870e-01,\n",
       "        5.99890586e-01,  3.11400544e-01, -1.96210417e+00, -1.07656612e+00,\n",
       "       -1.21380883e+00,  2.95690934e+00, -1.46500128e+00, -4.63694773e+00,\n",
       "        4.09334785e-01,  2.61576908e+00, -3.50558592e-02,  1.13508133e+00,\n",
       "       -8.01154208e-01, -4.49483744e+00, -4.79312336e+00, -4.23280469e+00,\n",
       "       -1.30866946e+00, -6.02917084e-01,  7.66490215e-01, -1.58409966e+00,\n",
       "        9.84339006e-02, -2.15707906e+00, -1.96708451e+00,  1.04316594e+00,\n",
       "       -3.14901165e+00, -6.45869426e+00, -2.89712674e+00, -5.77478741e-01,\n",
       "       -6.72223442e+00, -1.58603328e+00, -1.71159489e+00, -3.98233597e+00,\n",
       "       -3.43713553e+00, -3.05035103e+00, -2.16352800e+00,  1.53633707e+00,\n",
       "       -9.62948390e-01, -3.99530408e+00, -3.03494345e+00,  8.41505452e-01])"
      ]
     },
     "execution_count": 32,
     "metadata": {},
     "output_type": "execute_result"
    }
   ],
   "source": [
    "y2 = -1 + 0.5*x + rng.normal(loc=0, scale=2, size=100)\n",
    "y2"
   ]
  },
  {
   "cell_type": "code",
   "execution_count": 33,
   "metadata": {},
   "outputs": [
    {
     "data": {
      "image/png": "[encoded data removed]",
      "text/plain": [
       "<Figure size 600x600 with 1 Axes>"
      ]
     },
     "metadata": {},
     "output_type": "display_data"
    }
   ],
   "source": [
    "ax = plt.subplots(figsize=(6, 6))[1]\n",
    "ax.scatter(x, y2)\n",
    "ax.set_xlabel(\"X\")\n",
    "ax.set_ylabel(\"y2\");"
   ]
  },
  {
   "cell_type": "code",
   "execution_count": 36,
   "metadata": {},
   "outputs": [
    {
     "data": {
      "text/html": [
       "<table class=\"simpletable\">\n",
       "<caption>OLS Regression Results</caption>\n",
       "<tr>\n",
       "  <th>Dep. Variable:</th>            <td>y</td>        <th>  R-squared:         </th> <td>   0.001</td>\n",
       "</tr>\n",
       "<tr>\n",
       "  <th>Model:</th>                   <td>OLS</td>       <th>  Adj. R-squared:    </th> <td>  -0.009</td>\n",
       "</tr>\n",
       "<tr>\n",
       "  <th>Method:</th>             <td>Least Squares</td>  <th>  F-statistic:       </th> <td>  0.1135</td>\n",
       "</tr>\n",
       "<tr>\n",
       "  <th>Date:</th>             <td>Mon, 09 Oct 2023</td> <th>  Prob (F-statistic):</th>  <td> 0.737</td> \n",
       "</tr>\n",
       "<tr>\n",
       "  <th>Time:</th>                 <td>19:55:44</td>     <th>  Log-Likelihood:    </th> <td> -217.99</td>\n",
       "</tr>\n",
       "<tr>\n",
       "  <th>No. Observations:</th>      <td>   100</td>      <th>  AIC:               </th> <td>   440.0</td>\n",
       "</tr>\n",
       "<tr>\n",
       "  <th>Df Residuals:</th>          <td>    98</td>      <th>  BIC:               </th> <td>   445.2</td>\n",
       "</tr>\n",
       "<tr>\n",
       "  <th>Df Model:</th>              <td>     1</td>      <th>                     </th>     <td> </td>   \n",
       "</tr>\n",
       "<tr>\n",
       "  <th>Covariance Type:</th>      <td>nonrobust</td>    <th>                     </th>     <td> </td>   \n",
       "</tr>\n",
       "</table>\n",
       "<table class=\"simpletable\">\n",
       "<tr>\n",
       "      <td></td>         <th>coef</th>     <th>std err</th>      <th>t</th>      <th>P>|t|</th>  <th>[0.025</th>    <th>0.975]</th>  \n",
       "</tr>\n",
       "<tr>\n",
       "  <th>intercept</th> <td>   -1.2227</td> <td>    0.217</td> <td>   -5.629</td> <td> 0.000</td> <td>   -1.654</td> <td>   -0.792</td>\n",
       "</tr>\n",
       "<tr>\n",
       "  <th>X</th>         <td>    0.0854</td> <td>    0.254</td> <td>    0.337</td> <td> 0.737</td> <td>   -0.418</td> <td>    0.588</td>\n",
       "</tr>\n",
       "</table>\n",
       "<table class=\"simpletable\">\n",
       "<tr>\n",
       "  <th>Omnibus:</th>       <td> 4.179</td> <th>  Durbin-Watson:     </th> <td>   1.686</td>\n",
       "</tr>\n",
       "<tr>\n",
       "  <th>Prob(Omnibus):</th> <td> 0.124</td> <th>  Jarque-Bera (JB):  </th> <td>   2.584</td>\n",
       "</tr>\n",
       "<tr>\n",
       "  <th>Skew:</th>          <td>-0.186</td> <th>  Prob(JB):          </th> <td>   0.275</td>\n",
       "</tr>\n",
       "<tr>\n",
       "  <th>Kurtosis:</th>      <td> 2.306</td> <th>  Cond. No.          </th> <td>    1.20</td>\n",
       "</tr>\n",
       "</table><br/><br/>Notes:<br/>[1] Standard Errors assume that the covariance matrix of the errors is correctly specified."
      ],
      "text/latex": [
       "\\begin{center}\n",
       "\\begin{tabular}{lclc}\n",
       "\\toprule\n",
       "\\textbf{Dep. Variable:}    &        y         & \\textbf{  R-squared:         } &     0.001   \\\\\n",
       "\\textbf{Model:}            &       OLS        & \\textbf{  Adj. R-squared:    } &    -0.009   \\\\\n",
       "\\textbf{Method:}           &  Least Squares   & \\textbf{  F-statistic:       } &    0.1135   \\\\\n",
       "\\textbf{Date:}             & Mon, 09 Oct 2023 & \\textbf{  Prob (F-statistic):} &    0.737    \\\\\n",
       "\\textbf{Time:}             &     19:55:44     & \\textbf{  Log-Likelihood:    } &   -217.99   \\\\\n",
       "\\textbf{No. Observations:} &         100      & \\textbf{  AIC:               } &     440.0   \\\\\n",
       "\\textbf{Df Residuals:}     &          98      & \\textbf{  BIC:               } &     445.2   \\\\\n",
       "\\textbf{Df Model:}         &           1      & \\textbf{                     } &             \\\\\n",
       "\\textbf{Covariance Type:}  &    nonrobust     & \\textbf{                     } &             \\\\\n",
       "\\bottomrule\n",
       "\\end{tabular}\n",
       "\\begin{tabular}{lcccccc}\n",
       "                   & \\textbf{coef} & \\textbf{std err} & \\textbf{t} & \\textbf{P$> |$t$|$} & \\textbf{[0.025} & \\textbf{0.975]}  \\\\\n",
       "\\midrule\n",
       "\\textbf{intercept} &      -1.2227  &        0.217     &    -5.629  &         0.000        &       -1.654    &       -0.792     \\\\\n",
       "\\textbf{X}         &       0.0854  &        0.254     &     0.337  &         0.737        &       -0.418    &        0.588     \\\\\n",
       "\\bottomrule\n",
       "\\end{tabular}\n",
       "\\begin{tabular}{lclc}\n",
       "\\textbf{Omnibus:}       &  4.179 & \\textbf{  Durbin-Watson:     } &    1.686  \\\\\n",
       "\\textbf{Prob(Omnibus):} &  0.124 & \\textbf{  Jarque-Bera (JB):  } &    2.584  \\\\\n",
       "\\textbf{Skew:}          & -0.186 & \\textbf{  Prob(JB):          } &    0.275  \\\\\n",
       "\\textbf{Kurtosis:}      &  2.306 & \\textbf{  Cond. No.          } &     1.20  \\\\\n",
       "\\bottomrule\n",
       "\\end{tabular}\n",
       "%\\caption{OLS Regression Results}\n",
       "\\end{center}\n",
       "\n",
       "Notes: \\newline\n",
       " [1] Standard Errors assume that the covariance matrix of the errors is correctly specified."
      ],
      "text/plain": [
       "<class 'statsmodels.iolib.summary.Summary'>\n",
       "\"\"\"\n",
       "                            OLS Regression Results                            \n",
       "==============================================================================\n",
       "Dep. Variable:                      y   R-squared:                       0.001\n",
       "Model:                            OLS   Adj. R-squared:                 -0.009\n",
       "Method:                 Least Squares   F-statistic:                    0.1135\n",
       "Date:                Mon, 09 Oct 2023   Prob (F-statistic):              0.737\n",
       "Time:                        19:55:44   Log-Likelihood:                -217.99\n",
       "No. Observations:                 100   AIC:                             440.0\n",
       "Df Residuals:                      98   BIC:                             445.2\n",
       "Df Model:                           1                                         \n",
       "Covariance Type:            nonrobust                                         \n",
       "==============================================================================\n",
       "                 coef    std err          t      P>|t|      [0.025      0.975]\n",
       "------------------------------------------------------------------------------\n",
       "intercept     -1.2227      0.217     -5.629      0.000      -1.654      -0.792\n",
       "X              0.0854      0.254      0.337      0.737      -0.418       0.588\n",
       "==============================================================================\n",
       "Omnibus:                        4.179   Durbin-Watson:                   1.686\n",
       "Prob(Omnibus):                  0.124   Jarque-Bera (JB):                2.584\n",
       "Skew:                          -0.186   Prob(JB):                        0.275\n",
       "Kurtosis:                       2.306   Cond. No.                         1.20\n",
       "==============================================================================\n",
       "\n",
       "Notes:\n",
       "[1] Standard Errors assume that the covariance matrix of the errors is correctly specified.\n",
       "\"\"\""
      ]
     },
     "execution_count": 36,
     "metadata": {},
     "output_type": "execute_result"
    }
   ],
   "source": [
    "X_model_matrix2 = pd.DataFrame({\"intercept\":np.ones(100), \"X\":x})\n",
    "result2 = sm.OLS(y2, X_model_matrix2).fit()\n",
    "result2.summary()"
   ]
  },
  {
   "cell_type": "markdown",
   "metadata": {},
   "source": [
    "1) B0 is -1.2227 and B1 is 0.0854\n",
    "2) B0 is with error rate 18.2% and B1 is with error rate 485.5%.(Pretty bad for X because of high noise)\n",
    "\n",
    "3) That means a no slope line would perform similar.\n",
    "\n",
    "4) R-squared is very low, that means this model is not able to capture the variance of the data."
   ]
  },
  {
   "cell_type": "code",
   "execution_count": 37,
   "metadata": {},
   "outputs": [
    {
     "data": {
      "image/png": "[encoded data removed]",
      "text/plain": [
       "<Figure size 800x800 with 1 Axes>"
      ]
     },
     "metadata": {},
     "output_type": "display_data"
    }
   ],
   "source": [
    "fig, ax = plt.subplots(figsize=(8, 8))\n",
    "ax.scatter(x, y2)\n",
    "ax.set_xlabel(\"X\")\n",
    "ax.set_ylabel(\"y2\")\n",
    "abline(ax, result1.params[1], result1.params[0], \"least squares lines\", color=\"r\", linestyle=\"--\", linewidth=2)\n",
    "abline(ax, 0.5, -1, \"population line\", color=\"g\", linestyle=\"--\",linewidth=2)\n",
    "ax.legend();"
   ]
  },
  {
   "cell_type": "markdown",
   "metadata": {},
   "source": [
    "# 13(j)"
   ]
  },
  {
   "cell_type": "code",
   "execution_count": 40,
   "metadata": {},
   "outputs": [
    {
     "data": {
      "text/html": [
       "<div>\n",
       "<style scoped>\n",
       "    .dataframe tbody tr th:only-of-type {\n",
       "        vertical-align: middle;\n",
       "    }\n",
       "\n",
       "    .dataframe tbody tr th {\n",
       "        vertical-align: top;\n",
       "    }\n",
       "\n",
       "    .dataframe thead th {\n",
       "        text-align: right;\n",
       "    }\n",
       "</style>\n",
       "<table border=\"1\" class=\"dataframe\">\n",
       "  <thead>\n",
       "    <tr style=\"text-align: right;\">\n",
       "      <th></th>\n",
       "      <th>0</th>\n",
       "      <th>1</th>\n",
       "    </tr>\n",
       "  </thead>\n",
       "  <tbody>\n",
       "    <tr>\n",
       "      <th>intercept</th>\n",
       "      <td>-1.384792</td>\n",
       "      <td>-1.037177</td>\n",
       "    </tr>\n",
       "    <tr>\n",
       "      <th>X</th>\n",
       "      <td>0.248986</td>\n",
       "      <td>0.654645</td>\n",
       "    </tr>\n",
       "  </tbody>\n",
       "</table>\n",
       "</div>"
      ],
      "text/plain": [
       "                  0         1\n",
       "intercept -1.384792 -1.037177\n",
       "X          0.248986  0.654645"
      ]
     },
     "execution_count": 40,
     "metadata": {},
     "output_type": "execute_result"
    }
   ],
   "source": [
    "result.conf_int(alpha=0.05)"
   ]
  },
  {
   "cell_type": "code",
   "execution_count": 41,
   "metadata": {},
   "outputs": [
    {
     "data": {
      "text/html": [
       "<div>\n",
       "<style scoped>\n",
       "    .dataframe tbody tr th:only-of-type {\n",
       "        vertical-align: middle;\n",
       "    }\n",
       "\n",
       "    .dataframe tbody tr th {\n",
       "        vertical-align: top;\n",
       "    }\n",
       "\n",
       "    .dataframe thead th {\n",
       "        text-align: right;\n",
       "    }\n",
       "</style>\n",
       "<table border=\"1\" class=\"dataframe\">\n",
       "  <thead>\n",
       "    <tr style=\"text-align: right;\">\n",
       "      <th></th>\n",
       "      <th>0</th>\n",
       "      <th>1</th>\n",
       "    </tr>\n",
       "  </thead>\n",
       "  <tbody>\n",
       "    <tr>\n",
       "      <th>intercept</th>\n",
       "      <td>-1.038870</td>\n",
       "      <td>-0.968652</td>\n",
       "    </tr>\n",
       "    <tr>\n",
       "      <th>X</th>\n",
       "      <td>0.490086</td>\n",
       "      <td>0.572029</td>\n",
       "    </tr>\n",
       "  </tbody>\n",
       "</table>\n",
       "</div>"
      ],
      "text/plain": [
       "                  0         1\n",
       "intercept -1.038870 -0.968652\n",
       "X          0.490086  0.572029"
      ]
     },
     "execution_count": 41,
     "metadata": {},
     "output_type": "execute_result"
    }
   ],
   "source": [
    "result1.conf_int(alpha=0.05)"
   ]
  },
  {
   "cell_type": "code",
   "execution_count": 42,
   "metadata": {},
   "outputs": [
    {
     "data": {
      "text/html": [
       "<div>\n",
       "<style scoped>\n",
       "    .dataframe tbody tr th:only-of-type {\n",
       "        vertical-align: middle;\n",
       "    }\n",
       "\n",
       "    .dataframe tbody tr th {\n",
       "        vertical-align: top;\n",
       "    }\n",
       "\n",
       "    .dataframe thead th {\n",
       "        text-align: right;\n",
       "    }\n",
       "</style>\n",
       "<table border=\"1\" class=\"dataframe\">\n",
       "  <thead>\n",
       "    <tr style=\"text-align: right;\">\n",
       "      <th></th>\n",
       "      <th>0</th>\n",
       "      <th>1</th>\n",
       "    </tr>\n",
       "  </thead>\n",
       "  <tbody>\n",
       "    <tr>\n",
       "      <th>intercept</th>\n",
       "      <td>-1.653803</td>\n",
       "      <td>-0.791632</td>\n",
       "    </tr>\n",
       "    <tr>\n",
       "      <th>X</th>\n",
       "      <td>-0.417677</td>\n",
       "      <td>0.588457</td>\n",
       "    </tr>\n",
       "  </tbody>\n",
       "</table>\n",
       "</div>"
      ],
      "text/plain": [
       "                  0         1\n",
       "intercept -1.653803 -0.791632\n",
       "X         -0.417677  0.588457"
      ]
     },
     "execution_count": 42,
     "metadata": {},
     "output_type": "execute_result"
    }
   ],
   "source": [
    "result2.conf_int(alpha=0.05)"
   ]
  },
  {
   "cell_type": "markdown",
   "metadata": {},
   "source": [
    "##### Hence we can comment that as noise increases, the width of confidence interval increases(as expected) since std. error rate has increased and when noise decreases, the width of confidence interval becomes narrower."
   ]
  },
  {
   "cell_type": "code",
   "execution_count": null,
   "metadata": {},
   "outputs": [],
   "source": []
  }
 ],
 "metadata": {
  "kernelspec": {
   "display_name": "islp",
   "language": "python",
   "name": "python3"
  },
  "language_info": {
   "codemirror_mode": {
    "name": "ipython",
    "version": 3
   },
   "file_extension": ".py",
   "mimetype": "text/x-python",
   "name": "python",
   "nbconvert_exporter": "python",
   "pygments_lexer": "ipython3",
   "version": "3.11.5"
  }
 },
 "nbformat": 4,
 "nbformat_minor": 2
}
