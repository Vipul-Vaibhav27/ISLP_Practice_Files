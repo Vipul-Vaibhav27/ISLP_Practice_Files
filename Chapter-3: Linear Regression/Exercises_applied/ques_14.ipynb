{
 "cells": [
  {
   "cell_type": "code",
   "execution_count": 1,
   "metadata": {},
   "outputs": [],
   "source": [
    "import numpy as np\n",
    "import pandas as pd\n",
    "import matplotlib.pyplot as plt\n",
    "import statsmodels.api as sm"
   ]
  },
  {
   "cell_type": "markdown",
   "metadata": {},
   "source": [
    "# 14(a)"
   ]
  },
  {
   "cell_type": "code",
   "execution_count": 12,
   "metadata": {},
   "outputs": [],
   "source": [
    "rng = np.random.default_rng(10)\n",
    "x1 = rng.uniform(0, 1, size=100)\n",
    "x2 = 0.5*x1 + rng.normal(size=100)/10\n",
    "y = 2 + 2*x1 + 0.3*x2 + rng.normal(size=100)"
   ]
  },
  {
   "cell_type": "markdown",
   "metadata": {},
   "source": [
    "# 14(b)"
   ]
  },
  {
   "cell_type": "code",
   "execution_count": 3,
   "metadata": {},
   "outputs": [
    {
     "data": {
      "text/plain": [
       "array([[1.       , 0.7723245],\n",
       "       [0.7723245, 1.       ]])"
      ]
     },
     "execution_count": 3,
     "metadata": {},
     "output_type": "execute_result"
    }
   ],
   "source": [
    "np.corrcoef(x1, x2)"
   ]
  },
  {
   "cell_type": "markdown",
   "metadata": {},
   "source": [
    "Correlation between x1 and x2 is 0.7723245"
   ]
  },
  {
   "cell_type": "code",
   "execution_count": 4,
   "metadata": {},
   "outputs": [
    {
     "data": {
      "image/png": "[encoded data removed]",
      "text/plain": [
       "<Figure size 600x600 with 1 Axes>"
      ]
     },
     "metadata": {},
     "output_type": "display_data"
    }
   ],
   "source": [
    "ax = plt.subplots(figsize=(6, 6))[1]\n",
    "ax.scatter(x1, x2)\n",
    "ax.set_xlabel(\"x1\")\n",
    "ax.set_ylabel(\"x2\");"
   ]
  },
  {
   "cell_type": "markdown",
   "metadata": {},
   "source": [
    "# 14(c)"
   ]
  },
  {
   "cell_type": "code",
   "execution_count": 5,
   "metadata": {},
   "outputs": [
    {
     "data": {
      "text/html": [
       "<div>\n",
       "<style scoped>\n",
       "    .dataframe tbody tr th:only-of-type {\n",
       "        vertical-align: middle;\n",
       "    }\n",
       "\n",
       "    .dataframe tbody tr th {\n",
       "        vertical-align: top;\n",
       "    }\n",
       "\n",
       "    .dataframe thead th {\n",
       "        text-align: right;\n",
       "    }\n",
       "</style>\n",
       "<table border=\"1\" class=\"dataframe\">\n",
       "  <thead>\n",
       "    <tr style=\"text-align: right;\">\n",
       "      <th></th>\n",
       "      <th>intercept</th>\n",
       "      <th>x1</th>\n",
       "      <th>x2</th>\n",
       "    </tr>\n",
       "  </thead>\n",
       "  <tbody>\n",
       "    <tr>\n",
       "      <th>0</th>\n",
       "      <td>1.0</td>\n",
       "      <td>0.956002</td>\n",
       "      <td>0.469359</td>\n",
       "    </tr>\n",
       "    <tr>\n",
       "      <th>1</th>\n",
       "      <td>1.0</td>\n",
       "      <td>0.207682</td>\n",
       "      <td>0.142509</td>\n",
       "    </tr>\n",
       "    <tr>\n",
       "      <th>2</th>\n",
       "      <td>1.0</td>\n",
       "      <td>0.828445</td>\n",
       "      <td>0.587699</td>\n",
       "    </tr>\n",
       "    <tr>\n",
       "      <th>3</th>\n",
       "      <td>1.0</td>\n",
       "      <td>0.149282</td>\n",
       "      <td>0.181141</td>\n",
       "    </tr>\n",
       "    <tr>\n",
       "      <th>4</th>\n",
       "      <td>1.0</td>\n",
       "      <td>0.512805</td>\n",
       "      <td>0.236458</td>\n",
       "    </tr>\n",
       "    <tr>\n",
       "      <th>...</th>\n",
       "      <td>...</td>\n",
       "      <td>...</td>\n",
       "      <td>...</td>\n",
       "    </tr>\n",
       "    <tr>\n",
       "      <th>95</th>\n",
       "      <td>1.0</td>\n",
       "      <td>0.427256</td>\n",
       "      <td>0.273142</td>\n",
       "    </tr>\n",
       "    <tr>\n",
       "      <th>96</th>\n",
       "      <td>1.0</td>\n",
       "      <td>0.790513</td>\n",
       "      <td>0.456659</td>\n",
       "    </tr>\n",
       "    <tr>\n",
       "      <th>97</th>\n",
       "      <td>1.0</td>\n",
       "      <td>0.531602</td>\n",
       "      <td>0.236308</td>\n",
       "    </tr>\n",
       "    <tr>\n",
       "      <th>98</th>\n",
       "      <td>1.0</td>\n",
       "      <td>0.013037</td>\n",
       "      <td>0.054343</td>\n",
       "    </tr>\n",
       "    <tr>\n",
       "      <th>99</th>\n",
       "      <td>1.0</td>\n",
       "      <td>0.019875</td>\n",
       "      <td>0.079619</td>\n",
       "    </tr>\n",
       "  </tbody>\n",
       "</table>\n",
       "<p>100 rows × 3 columns</p>\n",
       "</div>"
      ],
      "text/plain": [
       "    intercept        x1        x2\n",
       "0         1.0  0.956002  0.469359\n",
       "1         1.0  0.207682  0.142509\n",
       "2         1.0  0.828445  0.587699\n",
       "3         1.0  0.149282  0.181141\n",
       "4         1.0  0.512805  0.236458\n",
       "..        ...       ...       ...\n",
       "95        1.0  0.427256  0.273142\n",
       "96        1.0  0.790513  0.456659\n",
       "97        1.0  0.531602  0.236308\n",
       "98        1.0  0.013037  0.054343\n",
       "99        1.0  0.019875  0.079619\n",
       "\n",
       "[100 rows x 3 columns]"
      ]
     },
     "execution_count": 5,
     "metadata": {},
     "output_type": "execute_result"
    }
   ],
   "source": [
    "X_model_matrix = pd.DataFrame({\"intercept\":np.ones(100), \"x1\":x1, \"x2\":x2})\n",
    "X_model_matrix"
   ]
  },
  {
   "cell_type": "code",
   "execution_count": 6,
   "metadata": {},
   "outputs": [
    {
     "data": {
      "text/html": [
       "<table class=\"simpletable\">\n",
       "<caption>OLS Regression Results</caption>\n",
       "<tr>\n",
       "  <th>Dep. Variable:</th>            <td>y</td>        <th>  R-squared:         </th> <td>   0.291</td>\n",
       "</tr>\n",
       "<tr>\n",
       "  <th>Model:</th>                   <td>OLS</td>       <th>  Adj. R-squared:    </th> <td>   0.276</td>\n",
       "</tr>\n",
       "<tr>\n",
       "  <th>Method:</th>             <td>Least Squares</td>  <th>  F-statistic:       </th> <td>   19.89</td>\n",
       "</tr>\n",
       "<tr>\n",
       "  <th>Date:</th>             <td>Mon, 09 Oct 2023</td> <th>  Prob (F-statistic):</th> <td>5.76e-08</td>\n",
       "</tr>\n",
       "<tr>\n",
       "  <th>Time:</th>                 <td>20:10:10</td>     <th>  Log-Likelihood:    </th> <td> -130.62</td>\n",
       "</tr>\n",
       "<tr>\n",
       "  <th>No. Observations:</th>      <td>   100</td>      <th>  AIC:               </th> <td>   267.2</td>\n",
       "</tr>\n",
       "<tr>\n",
       "  <th>Df Residuals:</th>          <td>    97</td>      <th>  BIC:               </th> <td>   275.1</td>\n",
       "</tr>\n",
       "<tr>\n",
       "  <th>Df Model:</th>              <td>     2</td>      <th>                     </th>     <td> </td>   \n",
       "</tr>\n",
       "<tr>\n",
       "  <th>Covariance Type:</th>      <td>nonrobust</td>    <th>                     </th>     <td> </td>   \n",
       "</tr>\n",
       "</table>\n",
       "<table class=\"simpletable\">\n",
       "<tr>\n",
       "      <td></td>         <th>coef</th>     <th>std err</th>      <th>t</th>      <th>P>|t|</th>  <th>[0.025</th>    <th>0.975]</th>  \n",
       "</tr>\n",
       "<tr>\n",
       "  <th>intercept</th> <td>    1.9579</td> <td>    0.190</td> <td>   10.319</td> <td> 0.000</td> <td>    1.581</td> <td>    2.334</td>\n",
       "</tr>\n",
       "<tr>\n",
       "  <th>x1</th>        <td>    1.6154</td> <td>    0.527</td> <td>    3.065</td> <td> 0.003</td> <td>    0.569</td> <td>    2.661</td>\n",
       "</tr>\n",
       "<tr>\n",
       "  <th>x2</th>        <td>    0.9428</td> <td>    0.831</td> <td>    1.134</td> <td> 0.259</td> <td>   -0.707</td> <td>    2.592</td>\n",
       "</tr>\n",
       "</table>\n",
       "<table class=\"simpletable\">\n",
       "<tr>\n",
       "  <th>Omnibus:</th>       <td> 0.051</td> <th>  Durbin-Watson:     </th> <td>   1.964</td>\n",
       "</tr>\n",
       "<tr>\n",
       "  <th>Prob(Omnibus):</th> <td> 0.975</td> <th>  Jarque-Bera (JB):  </th> <td>   0.041</td>\n",
       "</tr>\n",
       "<tr>\n",
       "  <th>Skew:</th>          <td>-0.036</td> <th>  Prob(JB):          </th> <td>   0.979</td>\n",
       "</tr>\n",
       "<tr>\n",
       "  <th>Kurtosis:</th>      <td> 2.931</td> <th>  Cond. No.          </th> <td>    11.9</td>\n",
       "</tr>\n",
       "</table><br/><br/>Notes:<br/>[1] Standard Errors assume that the covariance matrix of the errors is correctly specified."
      ],
      "text/latex": [
       "\\begin{center}\n",
       "\\begin{tabular}{lclc}\n",
       "\\toprule\n",
       "\\textbf{Dep. Variable:}    &        y         & \\textbf{  R-squared:         } &     0.291   \\\\\n",
       "\\textbf{Model:}            &       OLS        & \\textbf{  Adj. R-squared:    } &     0.276   \\\\\n",
       "\\textbf{Method:}           &  Least Squares   & \\textbf{  F-statistic:       } &     19.89   \\\\\n",
       "\\textbf{Date:}             & Mon, 09 Oct 2023 & \\textbf{  Prob (F-statistic):} &  5.76e-08   \\\\\n",
       "\\textbf{Time:}             &     20:10:10     & \\textbf{  Log-Likelihood:    } &   -130.62   \\\\\n",
       "\\textbf{No. Observations:} &         100      & \\textbf{  AIC:               } &     267.2   \\\\\n",
       "\\textbf{Df Residuals:}     &          97      & \\textbf{  BIC:               } &     275.1   \\\\\n",
       "\\textbf{Df Model:}         &           2      & \\textbf{                     } &             \\\\\n",
       "\\textbf{Covariance Type:}  &    nonrobust     & \\textbf{                     } &             \\\\\n",
       "\\bottomrule\n",
       "\\end{tabular}\n",
       "\\begin{tabular}{lcccccc}\n",
       "                   & \\textbf{coef} & \\textbf{std err} & \\textbf{t} & \\textbf{P$> |$t$|$} & \\textbf{[0.025} & \\textbf{0.975]}  \\\\\n",
       "\\midrule\n",
       "\\textbf{intercept} &       1.9579  &        0.190     &    10.319  &         0.000        &        1.581    &        2.334     \\\\\n",
       "\\textbf{x1}        &       1.6154  &        0.527     &     3.065  &         0.003        &        0.569    &        2.661     \\\\\n",
       "\\textbf{x2}        &       0.9428  &        0.831     &     1.134  &         0.259        &       -0.707    &        2.592     \\\\\n",
       "\\bottomrule\n",
       "\\end{tabular}\n",
       "\\begin{tabular}{lclc}\n",
       "\\textbf{Omnibus:}       &  0.051 & \\textbf{  Durbin-Watson:     } &    1.964  \\\\\n",
       "\\textbf{Prob(Omnibus):} &  0.975 & \\textbf{  Jarque-Bera (JB):  } &    0.041  \\\\\n",
       "\\textbf{Skew:}          & -0.036 & \\textbf{  Prob(JB):          } &    0.979  \\\\\n",
       "\\textbf{Kurtosis:}      &  2.931 & \\textbf{  Cond. No.          } &     11.9  \\\\\n",
       "\\bottomrule\n",
       "\\end{tabular}\n",
       "%\\caption{OLS Regression Results}\n",
       "\\end{center}\n",
       "\n",
       "Notes: \\newline\n",
       " [1] Standard Errors assume that the covariance matrix of the errors is correctly specified."
      ],
      "text/plain": [
       "<class 'statsmodels.iolib.summary.Summary'>\n",
       "\"\"\"\n",
       "                            OLS Regression Results                            \n",
       "==============================================================================\n",
       "Dep. Variable:                      y   R-squared:                       0.291\n",
       "Model:                            OLS   Adj. R-squared:                  0.276\n",
       "Method:                 Least Squares   F-statistic:                     19.89\n",
       "Date:                Mon, 09 Oct 2023   Prob (F-statistic):           5.76e-08\n",
       "Time:                        20:10:10   Log-Likelihood:                -130.62\n",
       "No. Observations:                 100   AIC:                             267.2\n",
       "Df Residuals:                      97   BIC:                             275.1\n",
       "Df Model:                           2                                         \n",
       "Covariance Type:            nonrobust                                         \n",
       "==============================================================================\n",
       "                 coef    std err          t      P>|t|      [0.025      0.975]\n",
       "------------------------------------------------------------------------------\n",
       "intercept      1.9579      0.190     10.319      0.000       1.581       2.334\n",
       "x1             1.6154      0.527      3.065      0.003       0.569       2.661\n",
       "x2             0.9428      0.831      1.134      0.259      -0.707       2.592\n",
       "==============================================================================\n",
       "Omnibus:                        0.051   Durbin-Watson:                   1.964\n",
       "Prob(Omnibus):                  0.975   Jarque-Bera (JB):                0.041\n",
       "Skew:                          -0.036   Prob(JB):                        0.979\n",
       "Kurtosis:                       2.931   Cond. No.                         11.9\n",
       "==============================================================================\n",
       "\n",
       "Notes:\n",
       "[1] Standard Errors assume that the covariance matrix of the errors is correctly specified.\n",
       "\"\"\""
      ]
     },
     "execution_count": 6,
     "metadata": {},
     "output_type": "execute_result"
    }
   ],
   "source": [
    "result = sm.OLS(y, X_model_matrix).fit()\n",
    "result.summary()"
   ]
  },
  {
   "cell_type": "markdown",
   "metadata": {},
   "source": [
    "1) estimated coeffs are, B0 is 1.9759, B1 is 1.6154 and B2 is 0.9428.\n",
    "2) True coeffs are, B0 is 2, B1 is 2 and B2 is 0.3.\n",
    "3) Therefore error rates respectively are 1.2%, 19.23% and 214.266%.(True val-estimatedval)/True val\n",
    "4) We can reject null hypothesis for B1. However we can't reject null hypothesis for B2."
   ]
  },
  {
   "cell_type": "markdown",
   "metadata": {},
   "source": [
    "# 14(d)"
   ]
  },
  {
   "cell_type": "code",
   "execution_count": 7,
   "metadata": {},
   "outputs": [
    {
     "data": {
      "text/html": [
       "<div>\n",
       "<style scoped>\n",
       "    .dataframe tbody tr th:only-of-type {\n",
       "        vertical-align: middle;\n",
       "    }\n",
       "\n",
       "    .dataframe tbody tr th {\n",
       "        vertical-align: top;\n",
       "    }\n",
       "\n",
       "    .dataframe thead th {\n",
       "        text-align: right;\n",
       "    }\n",
       "</style>\n",
       "<table border=\"1\" class=\"dataframe\">\n",
       "  <thead>\n",
       "    <tr style=\"text-align: right;\">\n",
       "      <th></th>\n",
       "      <th>intercept</th>\n",
       "      <th>x1</th>\n",
       "    </tr>\n",
       "  </thead>\n",
       "  <tbody>\n",
       "    <tr>\n",
       "      <th>0</th>\n",
       "      <td>1.0</td>\n",
       "      <td>0.956002</td>\n",
       "    </tr>\n",
       "    <tr>\n",
       "      <th>1</th>\n",
       "      <td>1.0</td>\n",
       "      <td>0.207682</td>\n",
       "    </tr>\n",
       "    <tr>\n",
       "      <th>2</th>\n",
       "      <td>1.0</td>\n",
       "      <td>0.828445</td>\n",
       "    </tr>\n",
       "    <tr>\n",
       "      <th>3</th>\n",
       "      <td>1.0</td>\n",
       "      <td>0.149282</td>\n",
       "    </tr>\n",
       "    <tr>\n",
       "      <th>4</th>\n",
       "      <td>1.0</td>\n",
       "      <td>0.512805</td>\n",
       "    </tr>\n",
       "    <tr>\n",
       "      <th>...</th>\n",
       "      <td>...</td>\n",
       "      <td>...</td>\n",
       "    </tr>\n",
       "    <tr>\n",
       "      <th>95</th>\n",
       "      <td>1.0</td>\n",
       "      <td>0.427256</td>\n",
       "    </tr>\n",
       "    <tr>\n",
       "      <th>96</th>\n",
       "      <td>1.0</td>\n",
       "      <td>0.790513</td>\n",
       "    </tr>\n",
       "    <tr>\n",
       "      <th>97</th>\n",
       "      <td>1.0</td>\n",
       "      <td>0.531602</td>\n",
       "    </tr>\n",
       "    <tr>\n",
       "      <th>98</th>\n",
       "      <td>1.0</td>\n",
       "      <td>0.013037</td>\n",
       "    </tr>\n",
       "    <tr>\n",
       "      <th>99</th>\n",
       "      <td>1.0</td>\n",
       "      <td>0.019875</td>\n",
       "    </tr>\n",
       "  </tbody>\n",
       "</table>\n",
       "<p>100 rows × 2 columns</p>\n",
       "</div>"
      ],
      "text/plain": [
       "    intercept        x1\n",
       "0         1.0  0.956002\n",
       "1         1.0  0.207682\n",
       "2         1.0  0.828445\n",
       "3         1.0  0.149282\n",
       "4         1.0  0.512805\n",
       "..        ...       ...\n",
       "95        1.0  0.427256\n",
       "96        1.0  0.790513\n",
       "97        1.0  0.531602\n",
       "98        1.0  0.013037\n",
       "99        1.0  0.019875\n",
       "\n",
       "[100 rows x 2 columns]"
      ]
     },
     "execution_count": 7,
     "metadata": {},
     "output_type": "execute_result"
    }
   ],
   "source": [
    "X_model_matrix_new = pd.DataFrame({\"intercept\":np.ones(100), \"x1\":x1})\n",
    "X_model_matrix_new"
   ]
  },
  {
   "cell_type": "code",
   "execution_count": 8,
   "metadata": {},
   "outputs": [
    {
     "data": {
      "text/html": [
       "<table class=\"simpletable\">\n",
       "<caption>OLS Regression Results</caption>\n",
       "<tr>\n",
       "  <th>Dep. Variable:</th>            <td>y</td>        <th>  R-squared:         </th> <td>   0.281</td>\n",
       "</tr>\n",
       "<tr>\n",
       "  <th>Model:</th>                   <td>OLS</td>       <th>  Adj. R-squared:    </th> <td>   0.274</td>\n",
       "</tr>\n",
       "<tr>\n",
       "  <th>Method:</th>             <td>Least Squares</td>  <th>  F-statistic:       </th> <td>   38.39</td>\n",
       "</tr>\n",
       "<tr>\n",
       "  <th>Date:</th>             <td>Mon, 09 Oct 2023</td> <th>  Prob (F-statistic):</th> <td>1.37e-08</td>\n",
       "</tr>\n",
       "<tr>\n",
       "  <th>Time:</th>                 <td>20:16:05</td>     <th>  Log-Likelihood:    </th> <td> -131.28</td>\n",
       "</tr>\n",
       "<tr>\n",
       "  <th>No. Observations:</th>      <td>   100</td>      <th>  AIC:               </th> <td>   266.6</td>\n",
       "</tr>\n",
       "<tr>\n",
       "  <th>Df Residuals:</th>          <td>    98</td>      <th>  BIC:               </th> <td>   271.8</td>\n",
       "</tr>\n",
       "<tr>\n",
       "  <th>Df Model:</th>              <td>     1</td>      <th>                     </th>     <td> </td>   \n",
       "</tr>\n",
       "<tr>\n",
       "  <th>Covariance Type:</th>      <td>nonrobust</td>    <th>                     </th>     <td> </td>   \n",
       "</tr>\n",
       "</table>\n",
       "<table class=\"simpletable\">\n",
       "<tr>\n",
       "      <td></td>         <th>coef</th>     <th>std err</th>      <th>t</th>      <th>P>|t|</th>  <th>[0.025</th>    <th>0.975]</th>  \n",
       "</tr>\n",
       "<tr>\n",
       "  <th>intercept</th> <td>    1.9371</td> <td>    0.189</td> <td>   10.242</td> <td> 0.000</td> <td>    1.562</td> <td>    2.312</td>\n",
       "</tr>\n",
       "<tr>\n",
       "  <th>x1</th>        <td>    2.0771</td> <td>    0.335</td> <td>    6.196</td> <td> 0.000</td> <td>    1.412</td> <td>    2.742</td>\n",
       "</tr>\n",
       "</table>\n",
       "<table class=\"simpletable\">\n",
       "<tr>\n",
       "  <th>Omnibus:</th>       <td> 0.204</td> <th>  Durbin-Watson:     </th> <td>   1.931</td>\n",
       "</tr>\n",
       "<tr>\n",
       "  <th>Prob(Omnibus):</th> <td> 0.903</td> <th>  Jarque-Bera (JB):  </th> <td>   0.042</td>\n",
       "</tr>\n",
       "<tr>\n",
       "  <th>Skew:</th>          <td>-0.046</td> <th>  Prob(JB):          </th> <td>   0.979</td>\n",
       "</tr>\n",
       "<tr>\n",
       "  <th>Kurtosis:</th>      <td> 3.038</td> <th>  Cond. No.          </th> <td>    4.65</td>\n",
       "</tr>\n",
       "</table><br/><br/>Notes:<br/>[1] Standard Errors assume that the covariance matrix of the errors is correctly specified."
      ],
      "text/latex": [
       "\\begin{center}\n",
       "\\begin{tabular}{lclc}\n",
       "\\toprule\n",
       "\\textbf{Dep. Variable:}    &        y         & \\textbf{  R-squared:         } &     0.281   \\\\\n",
       "\\textbf{Model:}            &       OLS        & \\textbf{  Adj. R-squared:    } &     0.274   \\\\\n",
       "\\textbf{Method:}           &  Least Squares   & \\textbf{  F-statistic:       } &     38.39   \\\\\n",
       "\\textbf{Date:}             & Mon, 09 Oct 2023 & \\textbf{  Prob (F-statistic):} &  1.37e-08   \\\\\n",
       "\\textbf{Time:}             &     20:16:05     & \\textbf{  Log-Likelihood:    } &   -131.28   \\\\\n",
       "\\textbf{No. Observations:} &         100      & \\textbf{  AIC:               } &     266.6   \\\\\n",
       "\\textbf{Df Residuals:}     &          98      & \\textbf{  BIC:               } &     271.8   \\\\\n",
       "\\textbf{Df Model:}         &           1      & \\textbf{                     } &             \\\\\n",
       "\\textbf{Covariance Type:}  &    nonrobust     & \\textbf{                     } &             \\\\\n",
       "\\bottomrule\n",
       "\\end{tabular}\n",
       "\\begin{tabular}{lcccccc}\n",
       "                   & \\textbf{coef} & \\textbf{std err} & \\textbf{t} & \\textbf{P$> |$t$|$} & \\textbf{[0.025} & \\textbf{0.975]}  \\\\\n",
       "\\midrule\n",
       "\\textbf{intercept} &       1.9371  &        0.189     &    10.242  &         0.000        &        1.562    &        2.312     \\\\\n",
       "\\textbf{x1}        &       2.0771  &        0.335     &     6.196  &         0.000        &        1.412    &        2.742     \\\\\n",
       "\\bottomrule\n",
       "\\end{tabular}\n",
       "\\begin{tabular}{lclc}\n",
       "\\textbf{Omnibus:}       &  0.204 & \\textbf{  Durbin-Watson:     } &    1.931  \\\\\n",
       "\\textbf{Prob(Omnibus):} &  0.903 & \\textbf{  Jarque-Bera (JB):  } &    0.042  \\\\\n",
       "\\textbf{Skew:}          & -0.046 & \\textbf{  Prob(JB):          } &    0.979  \\\\\n",
       "\\textbf{Kurtosis:}      &  3.038 & \\textbf{  Cond. No.          } &     4.65  \\\\\n",
       "\\bottomrule\n",
       "\\end{tabular}\n",
       "%\\caption{OLS Regression Results}\n",
       "\\end{center}\n",
       "\n",
       "Notes: \\newline\n",
       " [1] Standard Errors assume that the covariance matrix of the errors is correctly specified."
      ],
      "text/plain": [
       "<class 'statsmodels.iolib.summary.Summary'>\n",
       "\"\"\"\n",
       "                            OLS Regression Results                            \n",
       "==============================================================================\n",
       "Dep. Variable:                      y   R-squared:                       0.281\n",
       "Model:                            OLS   Adj. R-squared:                  0.274\n",
       "Method:                 Least Squares   F-statistic:                     38.39\n",
       "Date:                Mon, 09 Oct 2023   Prob (F-statistic):           1.37e-08\n",
       "Time:                        20:16:05   Log-Likelihood:                -131.28\n",
       "No. Observations:                 100   AIC:                             266.6\n",
       "Df Residuals:                      98   BIC:                             271.8\n",
       "Df Model:                           1                                         \n",
       "Covariance Type:            nonrobust                                         \n",
       "==============================================================================\n",
       "                 coef    std err          t      P>|t|      [0.025      0.975]\n",
       "------------------------------------------------------------------------------\n",
       "intercept      1.9371      0.189     10.242      0.000       1.562       2.312\n",
       "x1             2.0771      0.335      6.196      0.000       1.412       2.742\n",
       "==============================================================================\n",
       "Omnibus:                        0.204   Durbin-Watson:                   1.931\n",
       "Prob(Omnibus):                  0.903   Jarque-Bera (JB):                0.042\n",
       "Skew:                          -0.046   Prob(JB):                        0.979\n",
       "Kurtosis:                       3.038   Cond. No.                         4.65\n",
       "==============================================================================\n",
       "\n",
       "Notes:\n",
       "[1] Standard Errors assume that the covariance matrix of the errors is correctly specified.\n",
       "\"\"\""
      ]
     },
     "execution_count": 8,
     "metadata": {},
     "output_type": "execute_result"
    }
   ],
   "source": [
    "result_new = sm.OLS(y, X_model_matrix_new).fit()\n",
    "result_new.summary()"
   ]
  },
  {
   "cell_type": "markdown",
   "metadata": {},
   "source": [
    "1) Now error rates have been decreased for estimated B1 and it is more comparable to the true value of B1.\n",
    "2) t-statistics value of B1 has improved by a lot.\n",
    "3) Therefore, we can reject null hypothesis Ho:B1=0."
   ]
  },
  {
   "cell_type": "markdown",
   "metadata": {},
   "source": [
    "# 14(e)"
   ]
  },
  {
   "cell_type": "code",
   "execution_count": 9,
   "metadata": {},
   "outputs": [
    {
     "data": {
      "text/html": [
       "<div>\n",
       "<style scoped>\n",
       "    .dataframe tbody tr th:only-of-type {\n",
       "        vertical-align: middle;\n",
       "    }\n",
       "\n",
       "    .dataframe tbody tr th {\n",
       "        vertical-align: top;\n",
       "    }\n",
       "\n",
       "    .dataframe thead th {\n",
       "        text-align: right;\n",
       "    }\n",
       "</style>\n",
       "<table border=\"1\" class=\"dataframe\">\n",
       "  <thead>\n",
       "    <tr style=\"text-align: right;\">\n",
       "      <th></th>\n",
       "      <th>intercept</th>\n",
       "      <th>x2</th>\n",
       "    </tr>\n",
       "  </thead>\n",
       "  <tbody>\n",
       "    <tr>\n",
       "      <th>0</th>\n",
       "      <td>1.0</td>\n",
       "      <td>0.469359</td>\n",
       "    </tr>\n",
       "    <tr>\n",
       "      <th>1</th>\n",
       "      <td>1.0</td>\n",
       "      <td>0.142509</td>\n",
       "    </tr>\n",
       "    <tr>\n",
       "      <th>2</th>\n",
       "      <td>1.0</td>\n",
       "      <td>0.587699</td>\n",
       "    </tr>\n",
       "    <tr>\n",
       "      <th>3</th>\n",
       "      <td>1.0</td>\n",
       "      <td>0.181141</td>\n",
       "    </tr>\n",
       "    <tr>\n",
       "      <th>4</th>\n",
       "      <td>1.0</td>\n",
       "      <td>0.236458</td>\n",
       "    </tr>\n",
       "    <tr>\n",
       "      <th>...</th>\n",
       "      <td>...</td>\n",
       "      <td>...</td>\n",
       "    </tr>\n",
       "    <tr>\n",
       "      <th>95</th>\n",
       "      <td>1.0</td>\n",
       "      <td>0.273142</td>\n",
       "    </tr>\n",
       "    <tr>\n",
       "      <th>96</th>\n",
       "      <td>1.0</td>\n",
       "      <td>0.456659</td>\n",
       "    </tr>\n",
       "    <tr>\n",
       "      <th>97</th>\n",
       "      <td>1.0</td>\n",
       "      <td>0.236308</td>\n",
       "    </tr>\n",
       "    <tr>\n",
       "      <th>98</th>\n",
       "      <td>1.0</td>\n",
       "      <td>0.054343</td>\n",
       "    </tr>\n",
       "    <tr>\n",
       "      <th>99</th>\n",
       "      <td>1.0</td>\n",
       "      <td>0.079619</td>\n",
       "    </tr>\n",
       "  </tbody>\n",
       "</table>\n",
       "<p>100 rows × 2 columns</p>\n",
       "</div>"
      ],
      "text/plain": [
       "    intercept        x2\n",
       "0         1.0  0.469359\n",
       "1         1.0  0.142509\n",
       "2         1.0  0.587699\n",
       "3         1.0  0.181141\n",
       "4         1.0  0.236458\n",
       "..        ...       ...\n",
       "95        1.0  0.273142\n",
       "96        1.0  0.456659\n",
       "97        1.0  0.236308\n",
       "98        1.0  0.054343\n",
       "99        1.0  0.079619\n",
       "\n",
       "[100 rows x 2 columns]"
      ]
     },
     "execution_count": 9,
     "metadata": {},
     "output_type": "execute_result"
    }
   ],
   "source": [
    "X_model_matrix2 = pd.DataFrame({\"intercept\":np.ones(100), \"x2\":x2})\n",
    "X_model_matrix2"
   ]
  },
  {
   "cell_type": "code",
   "execution_count": 10,
   "metadata": {},
   "outputs": [
    {
     "data": {
      "text/html": [
       "<table class=\"simpletable\">\n",
       "<caption>OLS Regression Results</caption>\n",
       "<tr>\n",
       "  <th>Dep. Variable:</th>            <td>y</td>        <th>  R-squared:         </th> <td>   0.222</td>\n",
       "</tr>\n",
       "<tr>\n",
       "  <th>Model:</th>                   <td>OLS</td>       <th>  Adj. R-squared:    </th> <td>   0.214</td>\n",
       "</tr>\n",
       "<tr>\n",
       "  <th>Method:</th>             <td>Least Squares</td>  <th>  F-statistic:       </th> <td>   27.99</td>\n",
       "</tr>\n",
       "<tr>\n",
       "  <th>Date:</th>             <td>Mon, 09 Oct 2023</td> <th>  Prob (F-statistic):</th> <td>7.43e-07</td>\n",
       "</tr>\n",
       "<tr>\n",
       "  <th>Time:</th>                 <td>20:18:31</td>     <th>  Log-Likelihood:    </th> <td> -135.24</td>\n",
       "</tr>\n",
       "<tr>\n",
       "  <th>No. Observations:</th>      <td>   100</td>      <th>  AIC:               </th> <td>   274.5</td>\n",
       "</tr>\n",
       "<tr>\n",
       "  <th>Df Residuals:</th>          <td>    98</td>      <th>  BIC:               </th> <td>   279.7</td>\n",
       "</tr>\n",
       "<tr>\n",
       "  <th>Df Model:</th>              <td>     1</td>      <th>                     </th>     <td> </td>   \n",
       "</tr>\n",
       "<tr>\n",
       "  <th>Covariance Type:</th>      <td>nonrobust</td>    <th>                     </th>     <td> </td>   \n",
       "</tr>\n",
       "</table>\n",
       "<table class=\"simpletable\">\n",
       "<tr>\n",
       "      <td></td>         <th>coef</th>     <th>std err</th>      <th>t</th>      <th>P>|t|</th>  <th>[0.025</th>    <th>0.975]</th>  \n",
       "</tr>\n",
       "<tr>\n",
       "  <th>intercept</th> <td>    2.3239</td> <td>    0.154</td> <td>   15.124</td> <td> 0.000</td> <td>    2.019</td> <td>    2.629</td>\n",
       "</tr>\n",
       "<tr>\n",
       "  <th>x2</th>        <td>    2.9103</td> <td>    0.550</td> <td>    5.291</td> <td> 0.000</td> <td>    1.819</td> <td>    4.002</td>\n",
       "</tr>\n",
       "</table>\n",
       "<table class=\"simpletable\">\n",
       "<tr>\n",
       "  <th>Omnibus:</th>       <td> 0.191</td> <th>  Durbin-Watson:     </th> <td>   1.943</td>\n",
       "</tr>\n",
       "<tr>\n",
       "  <th>Prob(Omnibus):</th> <td> 0.909</td> <th>  Jarque-Bera (JB):  </th> <td>   0.373</td>\n",
       "</tr>\n",
       "<tr>\n",
       "  <th>Skew:</th>          <td>-0.034</td> <th>  Prob(JB):          </th> <td>   0.830</td>\n",
       "</tr>\n",
       "<tr>\n",
       "  <th>Kurtosis:</th>      <td> 2.709</td> <th>  Cond. No.          </th> <td>    6.11</td>\n",
       "</tr>\n",
       "</table><br/><br/>Notes:<br/>[1] Standard Errors assume that the covariance matrix of the errors is correctly specified."
      ],
      "text/latex": [
       "\\begin{center}\n",
       "\\begin{tabular}{lclc}\n",
       "\\toprule\n",
       "\\textbf{Dep. Variable:}    &        y         & \\textbf{  R-squared:         } &     0.222   \\\\\n",
       "\\textbf{Model:}            &       OLS        & \\textbf{  Adj. R-squared:    } &     0.214   \\\\\n",
       "\\textbf{Method:}           &  Least Squares   & \\textbf{  F-statistic:       } &     27.99   \\\\\n",
       "\\textbf{Date:}             & Mon, 09 Oct 2023 & \\textbf{  Prob (F-statistic):} &  7.43e-07   \\\\\n",
       "\\textbf{Time:}             &     20:18:31     & \\textbf{  Log-Likelihood:    } &   -135.24   \\\\\n",
       "\\textbf{No. Observations:} &         100      & \\textbf{  AIC:               } &     274.5   \\\\\n",
       "\\textbf{Df Residuals:}     &          98      & \\textbf{  BIC:               } &     279.7   \\\\\n",
       "\\textbf{Df Model:}         &           1      & \\textbf{                     } &             \\\\\n",
       "\\textbf{Covariance Type:}  &    nonrobust     & \\textbf{                     } &             \\\\\n",
       "\\bottomrule\n",
       "\\end{tabular}\n",
       "\\begin{tabular}{lcccccc}\n",
       "                   & \\textbf{coef} & \\textbf{std err} & \\textbf{t} & \\textbf{P$> |$t$|$} & \\textbf{[0.025} & \\textbf{0.975]}  \\\\\n",
       "\\midrule\n",
       "\\textbf{intercept} &       2.3239  &        0.154     &    15.124  &         0.000        &        2.019    &        2.629     \\\\\n",
       "\\textbf{x2}        &       2.9103  &        0.550     &     5.291  &         0.000        &        1.819    &        4.002     \\\\\n",
       "\\bottomrule\n",
       "\\end{tabular}\n",
       "\\begin{tabular}{lclc}\n",
       "\\textbf{Omnibus:}       &  0.191 & \\textbf{  Durbin-Watson:     } &    1.943  \\\\\n",
       "\\textbf{Prob(Omnibus):} &  0.909 & \\textbf{  Jarque-Bera (JB):  } &    0.373  \\\\\n",
       "\\textbf{Skew:}          & -0.034 & \\textbf{  Prob(JB):          } &    0.830  \\\\\n",
       "\\textbf{Kurtosis:}      &  2.709 & \\textbf{  Cond. No.          } &     6.11  \\\\\n",
       "\\bottomrule\n",
       "\\end{tabular}\n",
       "%\\caption{OLS Regression Results}\n",
       "\\end{center}\n",
       "\n",
       "Notes: \\newline\n",
       " [1] Standard Errors assume that the covariance matrix of the errors is correctly specified."
      ],
      "text/plain": [
       "<class 'statsmodels.iolib.summary.Summary'>\n",
       "\"\"\"\n",
       "                            OLS Regression Results                            \n",
       "==============================================================================\n",
       "Dep. Variable:                      y   R-squared:                       0.222\n",
       "Model:                            OLS   Adj. R-squared:                  0.214\n",
       "Method:                 Least Squares   F-statistic:                     27.99\n",
       "Date:                Mon, 09 Oct 2023   Prob (F-statistic):           7.43e-07\n",
       "Time:                        20:18:31   Log-Likelihood:                -135.24\n",
       "No. Observations:                 100   AIC:                             274.5\n",
       "Df Residuals:                      98   BIC:                             279.7\n",
       "Df Model:                           1                                         \n",
       "Covariance Type:            nonrobust                                         \n",
       "==============================================================================\n",
       "                 coef    std err          t      P>|t|      [0.025      0.975]\n",
       "------------------------------------------------------------------------------\n",
       "intercept      2.3239      0.154     15.124      0.000       2.019       2.629\n",
       "x2             2.9103      0.550      5.291      0.000       1.819       4.002\n",
       "==============================================================================\n",
       "Omnibus:                        0.191   Durbin-Watson:                   1.943\n",
       "Prob(Omnibus):                  0.909   Jarque-Bera (JB):                0.373\n",
       "Skew:                          -0.034   Prob(JB):                        0.830\n",
       "Kurtosis:                       2.709   Cond. No.                         6.11\n",
       "==============================================================================\n",
       "\n",
       "Notes:\n",
       "[1] Standard Errors assume that the covariance matrix of the errors is correctly specified.\n",
       "\"\"\""
      ]
     },
     "execution_count": 10,
     "metadata": {},
     "output_type": "execute_result"
    }
   ],
   "source": [
    "result2 = sm.OLS(y, X_model_matrix2).fit()\n",
    "result2.summary()"
   ]
  },
  {
   "cell_type": "markdown",
   "metadata": {},
   "source": [
    "1) it seems like the coeff of x2 absorbs the fact that x1 was there. That's why it is 2.9 as estimated.\n",
    "2) Now we can reject the null hypothesis Ho:B2=0."
   ]
  },
  {
   "cell_type": "markdown",
   "metadata": {},
   "source": [
    "# 14(f)"
   ]
  },
  {
   "cell_type": "markdown",
   "metadata": {},
   "source": [
    "Yes, the results contradict each other. t-statistics changes for x1 and x2. and therefore, null hypothesis testing gives different result.\n",
    "\n",
    "It is because of the problem of collinearity. When we removed x1, collinearity problem gets solved and thus, it's t-statistic value tends to 0 and it absorbs the dependance relation of x1 in it's new estimated coefficient."
   ]
  },
  {
   "cell_type": "markdown",
   "metadata": {},
   "source": [
    "# 14(g)"
   ]
  },
  {
   "cell_type": "code",
   "execution_count": 13,
   "metadata": {},
   "outputs": [],
   "source": [
    "x1_new = np.concatenate([x1, [0.1]])\n",
    "x2_new = np.concatenate([x2, [0.8]])\n",
    "y_new = np.concatenate([y, [6]])"
   ]
  },
  {
   "cell_type": "code",
   "execution_count": 14,
   "metadata": {},
   "outputs": [
    {
     "data": {
      "text/plain": [
       "array([0.95600171, 0.20768181, 0.82844489, 0.14928212, 0.51280462,\n",
       "       0.1359196 , 0.68903648, 0.84174772, 0.425509  , 0.956926  ,\n",
       "       0.82533291, 0.33821531, 0.57576055, 0.75330186, 0.82710394,\n",
       "       0.93343847, 0.14499469, 0.74558021, 0.13935139, 0.90652876,\n",
       "       0.22611443, 0.85323975, 0.30631787, 0.96983037, 0.51783421,\n",
       "       0.32247456, 0.28243352, 0.605865  , 0.33376446, 0.67864877,\n",
       "       0.15442507, 0.24977552, 0.86989425, 0.60036782, 0.26198306,\n",
       "       0.1494149 , 0.13678915, 0.24892094, 0.38282467, 0.64907906,\n",
       "       0.83756376, 0.77603195, 0.33951558, 0.14856874, 0.45701939,\n",
       "       0.43786436, 0.57421759, 0.37326922, 0.63382506, 0.11464436,\n",
       "       0.23309047, 0.76724102, 0.98712427, 0.80800108, 0.84296564,\n",
       "       0.79568268, 0.45684131, 0.73867068, 0.57845499, 0.45073557,\n",
       "       0.27102442, 0.86460315, 0.06865567, 0.81673446, 0.881835  ,\n",
       "       0.42351639, 0.83322931, 0.34101671, 0.51979151, 0.54920645,\n",
       "       0.19287718, 0.33321689, 0.27752456, 0.45755893, 0.67484562,\n",
       "       0.68383122, 0.52361312, 0.46437257, 0.50862936, 0.32460429,\n",
       "       0.1726007 , 0.29933345, 0.64856728, 0.06471591, 0.63370843,\n",
       "       0.27900152, 0.18595992, 0.48904812, 0.35368508, 0.09620202,\n",
       "       0.709561  , 0.7916206 , 0.0443115 , 0.62592275, 0.2498623 ,\n",
       "       0.42725624, 0.7905135 , 0.53160169, 0.01303743, 0.01987505,\n",
       "       0.1       ])"
      ]
     },
     "execution_count": 14,
     "metadata": {},
     "output_type": "execute_result"
    }
   ],
   "source": [
    "x1_new"
   ]
  },
  {
   "cell_type": "code",
   "execution_count": 15,
   "metadata": {},
   "outputs": [
    {
     "data": {
      "text/plain": [
       "array([ 0.46935859,  0.14250933,  0.5876991 ,  0.18114137,  0.23645761,\n",
       "        0.15961627,  0.35623248,  0.27273555,  0.20208935,  0.57793172,\n",
       "        0.35303018,  0.2627067 ,  0.25721198,  0.37929993,  0.29443701,\n",
       "        0.67373709,  0.11784107,  0.47363309,  0.02440477,  0.30692392,\n",
       "        0.23421807,  0.35543341,  0.31836418,  0.46780497,  0.42137018,\n",
       "        0.0883346 , -0.03518212,  0.37274155,  0.16007735,  0.33905232,\n",
       "        0.18208331,  0.03667247,  0.30548409,  0.18334024, -0.03722513,\n",
       "       -0.10615476, -0.06012932,  0.0270601 ,  0.14551882,  0.20310345,\n",
       "        0.40381528,  0.46114066,  0.14458386,  0.11224807,  0.1327756 ,\n",
       "        0.24264669,  0.32752244,  0.11481427,  0.15538837,  0.02900969,\n",
       "        0.10477493,  0.51381823,  0.43930505,  0.55260941,  0.16740748,\n",
       "        0.35114908,  0.16273915,  0.31386909,  0.21852171,  0.20212454,\n",
       "        0.27944727,  0.3983034 ,  0.13313034,  0.37971576,  0.43237428,\n",
       "       -0.04259444,  0.4057857 ,  0.21091055,  0.12787833,  0.19457139,\n",
       "       -0.00774219,  0.35612321,  0.02184286,  0.13742582,  0.049188  ,\n",
       "        0.16563964,  0.26164904,  0.08527182, -0.03911877,  0.11250867,\n",
       "        0.07514555,  0.15464905,  0.33920264, -0.04912235,  0.57173131,\n",
       "        0.06307903,  0.11503426,  0.09763085,  0.09395717, -0.12413157,\n",
       "        0.35445392,  0.33488336, -0.0982614 ,  0.09379884,  0.15796818,\n",
       "        0.27314238,  0.45665911,  0.236308  ,  0.05434318,  0.07961891,\n",
       "        0.8       ])"
      ]
     },
     "execution_count": 15,
     "metadata": {},
     "output_type": "execute_result"
    }
   ],
   "source": [
    "x2_new"
   ]
  },
  {
   "cell_type": "code",
   "execution_count": 16,
   "metadata": {},
   "outputs": [
    {
     "data": {
      "text/plain": [
       "array([4.35697711, 3.67778851, 3.48207881, 2.36909332, 1.41329539,\n",
       "       4.20750629, 2.57167458, 3.91937236, 3.37262726, 3.12696558,\n",
       "       3.56116566, 3.28659541, 2.99093735, 3.17884697, 3.29016738,\n",
       "       3.23154962, 2.02457872, 3.86499698, 2.60842138, 4.86156336,\n",
       "       2.45220933, 3.18771988, 3.4247815 , 4.31264243, 4.04213658,\n",
       "       2.74898481, 2.97663313, 3.60829046, 3.33659211, 2.39586587,\n",
       "       2.16177801, 2.59150777, 5.43193727, 3.08958983, 2.87226452,\n",
       "       1.99681481, 0.12091645, 3.644074  , 3.38606229, 4.50012386,\n",
       "       2.35809596, 3.87742528, 2.80321893, 0.68900189, 3.32236151,\n",
       "       2.25527731, 3.64036741, 1.04633436, 2.35023716, 1.44445948,\n",
       "       0.89747455, 3.65158127, 5.30946703, 3.6709363 , 4.26794145,\n",
       "       5.06154084, 3.42008377, 3.11252106, 1.23449794, 3.22092493,\n",
       "       2.21268616, 3.30792402, 2.8090962 , 4.20233228, 2.25403897,\n",
       "       2.98808164, 3.38177348, 3.50598973, 2.97210161, 3.98904757,\n",
       "       1.64301736, 2.29445824, 1.94060257, 2.69267502, 3.04120359,\n",
       "       4.51221993, 2.0686078 , 2.95405771, 1.76561729, 1.17036527,\n",
       "       1.69488554, 1.06797893, 3.48885221, 1.3047942 , 2.82725422,\n",
       "       2.94154934, 3.86393421, 2.39835694, 0.71371864, 1.67915277,\n",
       "       3.43884949, 4.72956304, 1.93993682, 2.32912505, 3.38988394,\n",
       "       3.9407218 , 3.46099756, 3.35509502, 2.33692233, 4.56653806,\n",
       "       6.        ])"
      ]
     },
     "execution_count": 16,
     "metadata": {},
     "output_type": "execute_result"
    }
   ],
   "source": [
    "y_new"
   ]
  },
  {
   "cell_type": "markdown",
   "metadata": {},
   "source": [
    "### Model-1"
   ]
  },
  {
   "cell_type": "code",
   "execution_count": 17,
   "metadata": {},
   "outputs": [
    {
     "data": {
      "text/html": [
       "<div>\n",
       "<style scoped>\n",
       "    .dataframe tbody tr th:only-of-type {\n",
       "        vertical-align: middle;\n",
       "    }\n",
       "\n",
       "    .dataframe tbody tr th {\n",
       "        vertical-align: top;\n",
       "    }\n",
       "\n",
       "    .dataframe thead th {\n",
       "        text-align: right;\n",
       "    }\n",
       "</style>\n",
       "<table border=\"1\" class=\"dataframe\">\n",
       "  <thead>\n",
       "    <tr style=\"text-align: right;\">\n",
       "      <th></th>\n",
       "      <th>intercept</th>\n",
       "      <th>x1_new</th>\n",
       "      <th>x2_new</th>\n",
       "    </tr>\n",
       "  </thead>\n",
       "  <tbody>\n",
       "    <tr>\n",
       "      <th>0</th>\n",
       "      <td>1.0</td>\n",
       "      <td>0.956002</td>\n",
       "      <td>0.469359</td>\n",
       "    </tr>\n",
       "    <tr>\n",
       "      <th>1</th>\n",
       "      <td>1.0</td>\n",
       "      <td>0.207682</td>\n",
       "      <td>0.142509</td>\n",
       "    </tr>\n",
       "    <tr>\n",
       "      <th>2</th>\n",
       "      <td>1.0</td>\n",
       "      <td>0.828445</td>\n",
       "      <td>0.587699</td>\n",
       "    </tr>\n",
       "    <tr>\n",
       "      <th>3</th>\n",
       "      <td>1.0</td>\n",
       "      <td>0.149282</td>\n",
       "      <td>0.181141</td>\n",
       "    </tr>\n",
       "    <tr>\n",
       "      <th>4</th>\n",
       "      <td>1.0</td>\n",
       "      <td>0.512805</td>\n",
       "      <td>0.236458</td>\n",
       "    </tr>\n",
       "    <tr>\n",
       "      <th>...</th>\n",
       "      <td>...</td>\n",
       "      <td>...</td>\n",
       "      <td>...</td>\n",
       "    </tr>\n",
       "    <tr>\n",
       "      <th>96</th>\n",
       "      <td>1.0</td>\n",
       "      <td>0.790513</td>\n",
       "      <td>0.456659</td>\n",
       "    </tr>\n",
       "    <tr>\n",
       "      <th>97</th>\n",
       "      <td>1.0</td>\n",
       "      <td>0.531602</td>\n",
       "      <td>0.236308</td>\n",
       "    </tr>\n",
       "    <tr>\n",
       "      <th>98</th>\n",
       "      <td>1.0</td>\n",
       "      <td>0.013037</td>\n",
       "      <td>0.054343</td>\n",
       "    </tr>\n",
       "    <tr>\n",
       "      <th>99</th>\n",
       "      <td>1.0</td>\n",
       "      <td>0.019875</td>\n",
       "      <td>0.079619</td>\n",
       "    </tr>\n",
       "    <tr>\n",
       "      <th>100</th>\n",
       "      <td>1.0</td>\n",
       "      <td>0.100000</td>\n",
       "      <td>0.800000</td>\n",
       "    </tr>\n",
       "  </tbody>\n",
       "</table>\n",
       "<p>101 rows × 3 columns</p>\n",
       "</div>"
      ],
      "text/plain": [
       "     intercept    x1_new    x2_new\n",
       "0          1.0  0.956002  0.469359\n",
       "1          1.0  0.207682  0.142509\n",
       "2          1.0  0.828445  0.587699\n",
       "3          1.0  0.149282  0.181141\n",
       "4          1.0  0.512805  0.236458\n",
       "..         ...       ...       ...\n",
       "96         1.0  0.790513  0.456659\n",
       "97         1.0  0.531602  0.236308\n",
       "98         1.0  0.013037  0.054343\n",
       "99         1.0  0.019875  0.079619\n",
       "100        1.0  0.100000  0.800000\n",
       "\n",
       "[101 rows x 3 columns]"
      ]
     },
     "execution_count": 17,
     "metadata": {},
     "output_type": "execute_result"
    }
   ],
   "source": [
    "X_model_matrix3 = pd.DataFrame({\"intercept\":np.ones(101), \"x1_new\":x1_new, \"x2_new\":x2_new})\n",
    "X_model_matrix3"
   ]
  },
  {
   "cell_type": "code",
   "execution_count": 18,
   "metadata": {},
   "outputs": [
    {
     "data": {
      "text/html": [
       "<table class=\"simpletable\">\n",
       "<caption>OLS Regression Results</caption>\n",
       "<tr>\n",
       "  <th>Dep. Variable:</th>            <td>y</td>        <th>  R-squared:         </th> <td>   0.292</td>\n",
       "</tr>\n",
       "<tr>\n",
       "  <th>Model:</th>                   <td>OLS</td>       <th>  Adj. R-squared:    </th> <td>   0.277</td>\n",
       "</tr>\n",
       "<tr>\n",
       "  <th>Method:</th>             <td>Least Squares</td>  <th>  F-statistic:       </th> <td>   20.17</td>\n",
       "</tr>\n",
       "<tr>\n",
       "  <th>Date:</th>             <td>Mon, 09 Oct 2023</td> <th>  Prob (F-statistic):</th> <td>4.60e-08</td>\n",
       "</tr>\n",
       "<tr>\n",
       "  <th>Time:</th>                 <td>20:28:37</td>     <th>  Log-Likelihood:    </th> <td> -135.30</td>\n",
       "</tr>\n",
       "<tr>\n",
       "  <th>No. Observations:</th>      <td>   101</td>      <th>  AIC:               </th> <td>   276.6</td>\n",
       "</tr>\n",
       "<tr>\n",
       "  <th>Df Residuals:</th>          <td>    98</td>      <th>  BIC:               </th> <td>   284.5</td>\n",
       "</tr>\n",
       "<tr>\n",
       "  <th>Df Model:</th>              <td>     2</td>      <th>                     </th>     <td> </td>   \n",
       "</tr>\n",
       "<tr>\n",
       "  <th>Covariance Type:</th>      <td>nonrobust</td>    <th>                     </th>     <td> </td>   \n",
       "</tr>\n",
       "</table>\n",
       "<table class=\"simpletable\">\n",
       "<tr>\n",
       "      <td></td>         <th>coef</th>     <th>std err</th>      <th>t</th>      <th>P>|t|</th>  <th>[0.025</th>    <th>0.975]</th>  \n",
       "</tr>\n",
       "<tr>\n",
       "  <th>intercept</th> <td>    2.0618</td> <td>    0.192</td> <td>   10.720</td> <td> 0.000</td> <td>    1.680</td> <td>    2.443</td>\n",
       "</tr>\n",
       "<tr>\n",
       "  <th>x1_new</th>    <td>    0.8575</td> <td>    0.466</td> <td>    1.838</td> <td> 0.069</td> <td>   -0.068</td> <td>    1.783</td>\n",
       "</tr>\n",
       "<tr>\n",
       "  <th>x2_new</th>    <td>    2.2663</td> <td>    0.705</td> <td>    3.216</td> <td> 0.002</td> <td>    0.868</td> <td>    3.665</td>\n",
       "</tr>\n",
       "</table>\n",
       "<table class=\"simpletable\">\n",
       "<tr>\n",
       "  <th>Omnibus:</th>       <td> 0.139</td> <th>  Durbin-Watson:     </th> <td>   1.894</td>\n",
       "</tr>\n",
       "<tr>\n",
       "  <th>Prob(Omnibus):</th> <td> 0.933</td> <th>  Jarque-Bera (JB):  </th> <td>   0.320</td>\n",
       "</tr>\n",
       "<tr>\n",
       "  <th>Skew:</th>          <td> 0.013</td> <th>  Prob(JB):          </th> <td>   0.852</td>\n",
       "</tr>\n",
       "<tr>\n",
       "  <th>Kurtosis:</th>      <td> 2.725</td> <th>  Cond. No.          </th> <td>    9.68</td>\n",
       "</tr>\n",
       "</table><br/><br/>Notes:<br/>[1] Standard Errors assume that the covariance matrix of the errors is correctly specified."
      ],
      "text/latex": [
       "\\begin{center}\n",
       "\\begin{tabular}{lclc}\n",
       "\\toprule\n",
       "\\textbf{Dep. Variable:}    &        y         & \\textbf{  R-squared:         } &     0.292   \\\\\n",
       "\\textbf{Model:}            &       OLS        & \\textbf{  Adj. R-squared:    } &     0.277   \\\\\n",
       "\\textbf{Method:}           &  Least Squares   & \\textbf{  F-statistic:       } &     20.17   \\\\\n",
       "\\textbf{Date:}             & Mon, 09 Oct 2023 & \\textbf{  Prob (F-statistic):} &  4.60e-08   \\\\\n",
       "\\textbf{Time:}             &     20:28:37     & \\textbf{  Log-Likelihood:    } &   -135.30   \\\\\n",
       "\\textbf{No. Observations:} &         101      & \\textbf{  AIC:               } &     276.6   \\\\\n",
       "\\textbf{Df Residuals:}     &          98      & \\textbf{  BIC:               } &     284.5   \\\\\n",
       "\\textbf{Df Model:}         &           2      & \\textbf{                     } &             \\\\\n",
       "\\textbf{Covariance Type:}  &    nonrobust     & \\textbf{                     } &             \\\\\n",
       "\\bottomrule\n",
       "\\end{tabular}\n",
       "\\begin{tabular}{lcccccc}\n",
       "                   & \\textbf{coef} & \\textbf{std err} & \\textbf{t} & \\textbf{P$> |$t$|$} & \\textbf{[0.025} & \\textbf{0.975]}  \\\\\n",
       "\\midrule\n",
       "\\textbf{intercept} &       2.0618  &        0.192     &    10.720  &         0.000        &        1.680    &        2.443     \\\\\n",
       "\\textbf{x1\\_new}   &       0.8575  &        0.466     &     1.838  &         0.069        &       -0.068    &        1.783     \\\\\n",
       "\\textbf{x2\\_new}   &       2.2663  &        0.705     &     3.216  &         0.002        &        0.868    &        3.665     \\\\\n",
       "\\bottomrule\n",
       "\\end{tabular}\n",
       "\\begin{tabular}{lclc}\n",
       "\\textbf{Omnibus:}       &  0.139 & \\textbf{  Durbin-Watson:     } &    1.894  \\\\\n",
       "\\textbf{Prob(Omnibus):} &  0.933 & \\textbf{  Jarque-Bera (JB):  } &    0.320  \\\\\n",
       "\\textbf{Skew:}          &  0.013 & \\textbf{  Prob(JB):          } &    0.852  \\\\\n",
       "\\textbf{Kurtosis:}      &  2.725 & \\textbf{  Cond. No.          } &     9.68  \\\\\n",
       "\\bottomrule\n",
       "\\end{tabular}\n",
       "%\\caption{OLS Regression Results}\n",
       "\\end{center}\n",
       "\n",
       "Notes: \\newline\n",
       " [1] Standard Errors assume that the covariance matrix of the errors is correctly specified."
      ],
      "text/plain": [
       "<class 'statsmodels.iolib.summary.Summary'>\n",
       "\"\"\"\n",
       "                            OLS Regression Results                            \n",
       "==============================================================================\n",
       "Dep. Variable:                      y   R-squared:                       0.292\n",
       "Model:                            OLS   Adj. R-squared:                  0.277\n",
       "Method:                 Least Squares   F-statistic:                     20.17\n",
       "Date:                Mon, 09 Oct 2023   Prob (F-statistic):           4.60e-08\n",
       "Time:                        20:28:37   Log-Likelihood:                -135.30\n",
       "No. Observations:                 101   AIC:                             276.6\n",
       "Df Residuals:                      98   BIC:                             284.5\n",
       "Df Model:                           2                                         \n",
       "Covariance Type:            nonrobust                                         \n",
       "==============================================================================\n",
       "                 coef    std err          t      P>|t|      [0.025      0.975]\n",
       "------------------------------------------------------------------------------\n",
       "intercept      2.0618      0.192     10.720      0.000       1.680       2.443\n",
       "x1_new         0.8575      0.466      1.838      0.069      -0.068       1.783\n",
       "x2_new         2.2663      0.705      3.216      0.002       0.868       3.665\n",
       "==============================================================================\n",
       "Omnibus:                        0.139   Durbin-Watson:                   1.894\n",
       "Prob(Omnibus):                  0.933   Jarque-Bera (JB):                0.320\n",
       "Skew:                           0.013   Prob(JB):                        0.852\n",
       "Kurtosis:                       2.725   Cond. No.                         9.68\n",
       "==============================================================================\n",
       "\n",
       "Notes:\n",
       "[1] Standard Errors assume that the covariance matrix of the errors is correctly specified.\n",
       "\"\"\""
      ]
     },
     "execution_count": 18,
     "metadata": {},
     "output_type": "execute_result"
    }
   ],
   "source": [
    "# Using both x1_new and x2_new\n",
    "result3 = sm.OLS(y_new, X_model_matrix3).fit()\n",
    "result3.summary()"
   ]
  },
  {
   "cell_type": "markdown",
   "metadata": {},
   "source": [
    "1) t-statistics values for all coeff estimate changes and now we can't reject null hypothesis for B1 but we can reject null hypothesis for B2.\n",
    "2) R-squared value increases"
   ]
  },
  {
   "cell_type": "markdown",
   "metadata": {},
   "source": [
    "### Checking Leverage statistics for Model-1"
   ]
  },
  {
   "cell_type": "code",
   "execution_count": 22,
   "metadata": {},
   "outputs": [
    {
     "data": {
      "image/png": "[encoded data removed]",
      "text/plain": [
       "<Figure size 800x800 with 1 Axes>"
      ]
     },
     "metadata": {},
     "output_type": "display_data"
    }
   ],
   "source": [
    "infl3 = result3.get_influence()\n",
    "outlier3 = result3.outlier_test()\n",
    "fig, ax = plt.subplots(figsize=(8, 8))\n",
    "ax.scatter(infl3.hat_matrix_diag, outlier3[\"student_resid\"])\n",
    "ax.set_xlabel(\"Leverage\")\n",
    "ax.set_ylabel(\"student residual error\")\n",
    "ax.set_title(\"Student residual error vs Leverage Statistics plot\");"
   ]
  },
  {
   "cell_type": "markdown",
   "metadata": {},
   "source": [
    "##### Therefore, we can conclude that there is no sign of outlier, however there is a sign of high-leverage point."
   ]
  },
  {
   "cell_type": "markdown",
   "metadata": {},
   "source": [
    "### Model-2"
   ]
  },
  {
   "cell_type": "code",
   "execution_count": 19,
   "metadata": {},
   "outputs": [
    {
     "data": {
      "text/html": [
       "<table class=\"simpletable\">\n",
       "<caption>OLS Regression Results</caption>\n",
       "<tr>\n",
       "  <th>Dep. Variable:</th>            <td>y</td>        <th>  R-squared:         </th> <td>   0.217</td>\n",
       "</tr>\n",
       "<tr>\n",
       "  <th>Model:</th>                   <td>OLS</td>       <th>  Adj. R-squared:    </th> <td>   0.209</td>\n",
       "</tr>\n",
       "<tr>\n",
       "  <th>Method:</th>             <td>Least Squares</td>  <th>  F-statistic:       </th> <td>   27.42</td>\n",
       "</tr>\n",
       "<tr>\n",
       "  <th>Date:</th>             <td>Mon, 09 Oct 2023</td> <th>  Prob (F-statistic):</th> <td>9.23e-07</td>\n",
       "</tr>\n",
       "<tr>\n",
       "  <th>Time:</th>                 <td>20:30:12</td>     <th>  Log-Likelihood:    </th> <td> -140.37</td>\n",
       "</tr>\n",
       "<tr>\n",
       "  <th>No. Observations:</th>      <td>   101</td>      <th>  AIC:               </th> <td>   284.7</td>\n",
       "</tr>\n",
       "<tr>\n",
       "  <th>Df Residuals:</th>          <td>    99</td>      <th>  BIC:               </th> <td>   290.0</td>\n",
       "</tr>\n",
       "<tr>\n",
       "  <th>Df Model:</th>              <td>     1</td>      <th>                     </th>     <td> </td>   \n",
       "</tr>\n",
       "<tr>\n",
       "  <th>Covariance Type:</th>      <td>nonrobust</td>    <th>                     </th>     <td> </td>   \n",
       "</tr>\n",
       "</table>\n",
       "<table class=\"simpletable\">\n",
       "<tr>\n",
       "      <td></td>         <th>coef</th>     <th>std err</th>      <th>t</th>      <th>P>|t|</th>  <th>[0.025</th>    <th>0.975]</th>  \n",
       "</tr>\n",
       "<tr>\n",
       "  <th>intercept</th> <td>    2.0739</td> <td>    0.201</td> <td>   10.310</td> <td> 0.000</td> <td>    1.675</td> <td>    2.473</td>\n",
       "</tr>\n",
       "<tr>\n",
       "  <th>x1_new</th>    <td>    1.8760</td> <td>    0.358</td> <td>    5.236</td> <td> 0.000</td> <td>    1.165</td> <td>    2.587</td>\n",
       "</tr>\n",
       "</table>\n",
       "<table class=\"simpletable\">\n",
       "<tr>\n",
       "  <th>Omnibus:</th>       <td> 8.232</td> <th>  Durbin-Watson:     </th> <td>   1.636</td>\n",
       "</tr>\n",
       "<tr>\n",
       "  <th>Prob(Omnibus):</th> <td> 0.016</td> <th>  Jarque-Bera (JB):  </th> <td>  10.781</td>\n",
       "</tr>\n",
       "<tr>\n",
       "  <th>Skew:</th>          <td> 0.396</td> <th>  Prob(JB):          </th> <td> 0.00456</td>\n",
       "</tr>\n",
       "<tr>\n",
       "  <th>Kurtosis:</th>      <td> 4.391</td> <th>  Cond. No.          </th> <td>    4.61</td>\n",
       "</tr>\n",
       "</table><br/><br/>Notes:<br/>[1] Standard Errors assume that the covariance matrix of the errors is correctly specified."
      ],
      "text/latex": [
       "\\begin{center}\n",
       "\\begin{tabular}{lclc}\n",
       "\\toprule\n",
       "\\textbf{Dep. Variable:}    &        y         & \\textbf{  R-squared:         } &     0.217   \\\\\n",
       "\\textbf{Model:}            &       OLS        & \\textbf{  Adj. R-squared:    } &     0.209   \\\\\n",
       "\\textbf{Method:}           &  Least Squares   & \\textbf{  F-statistic:       } &     27.42   \\\\\n",
       "\\textbf{Date:}             & Mon, 09 Oct 2023 & \\textbf{  Prob (F-statistic):} &  9.23e-07   \\\\\n",
       "\\textbf{Time:}             &     20:30:12     & \\textbf{  Log-Likelihood:    } &   -140.37   \\\\\n",
       "\\textbf{No. Observations:} &         101      & \\textbf{  AIC:               } &     284.7   \\\\\n",
       "\\textbf{Df Residuals:}     &          99      & \\textbf{  BIC:               } &     290.0   \\\\\n",
       "\\textbf{Df Model:}         &           1      & \\textbf{                     } &             \\\\\n",
       "\\textbf{Covariance Type:}  &    nonrobust     & \\textbf{                     } &             \\\\\n",
       "\\bottomrule\n",
       "\\end{tabular}\n",
       "\\begin{tabular}{lcccccc}\n",
       "                   & \\textbf{coef} & \\textbf{std err} & \\textbf{t} & \\textbf{P$> |$t$|$} & \\textbf{[0.025} & \\textbf{0.975]}  \\\\\n",
       "\\midrule\n",
       "\\textbf{intercept} &       2.0739  &        0.201     &    10.310  &         0.000        &        1.675    &        2.473     \\\\\n",
       "\\textbf{x1\\_new}   &       1.8760  &        0.358     &     5.236  &         0.000        &        1.165    &        2.587     \\\\\n",
       "\\bottomrule\n",
       "\\end{tabular}\n",
       "\\begin{tabular}{lclc}\n",
       "\\textbf{Omnibus:}       &  8.232 & \\textbf{  Durbin-Watson:     } &    1.636  \\\\\n",
       "\\textbf{Prob(Omnibus):} &  0.016 & \\textbf{  Jarque-Bera (JB):  } &   10.781  \\\\\n",
       "\\textbf{Skew:}          &  0.396 & \\textbf{  Prob(JB):          } &  0.00456  \\\\\n",
       "\\textbf{Kurtosis:}      &  4.391 & \\textbf{  Cond. No.          } &     4.61  \\\\\n",
       "\\bottomrule\n",
       "\\end{tabular}\n",
       "%\\caption{OLS Regression Results}\n",
       "\\end{center}\n",
       "\n",
       "Notes: \\newline\n",
       " [1] Standard Errors assume that the covariance matrix of the errors is correctly specified."
      ],
      "text/plain": [
       "<class 'statsmodels.iolib.summary.Summary'>\n",
       "\"\"\"\n",
       "                            OLS Regression Results                            \n",
       "==============================================================================\n",
       "Dep. Variable:                      y   R-squared:                       0.217\n",
       "Model:                            OLS   Adj. R-squared:                  0.209\n",
       "Method:                 Least Squares   F-statistic:                     27.42\n",
       "Date:                Mon, 09 Oct 2023   Prob (F-statistic):           9.23e-07\n",
       "Time:                        20:30:12   Log-Likelihood:                -140.37\n",
       "No. Observations:                 101   AIC:                             284.7\n",
       "Df Residuals:                      99   BIC:                             290.0\n",
       "Df Model:                           1                                         \n",
       "Covariance Type:            nonrobust                                         \n",
       "==============================================================================\n",
       "                 coef    std err          t      P>|t|      [0.025      0.975]\n",
       "------------------------------------------------------------------------------\n",
       "intercept      2.0739      0.201     10.310      0.000       1.675       2.473\n",
       "x1_new         1.8760      0.358      5.236      0.000       1.165       2.587\n",
       "==============================================================================\n",
       "Omnibus:                        8.232   Durbin-Watson:                   1.636\n",
       "Prob(Omnibus):                  0.016   Jarque-Bera (JB):               10.781\n",
       "Skew:                           0.396   Prob(JB):                      0.00456\n",
       "Kurtosis:                       4.391   Cond. No.                         4.61\n",
       "==============================================================================\n",
       "\n",
       "Notes:\n",
       "[1] Standard Errors assume that the covariance matrix of the errors is correctly specified.\n",
       "\"\"\""
      ]
     },
     "execution_count": 19,
     "metadata": {},
     "output_type": "execute_result"
    }
   ],
   "source": [
    "# Using only x1_new\n",
    "X_model_matrix4 = pd.DataFrame({\"intercept\":np.ones(101), \"x1_new\":x1_new})\n",
    "result4 = sm.OLS(y_new, X_model_matrix4).fit()\n",
    "result4.summary()"
   ]
  },
  {
   "cell_type": "markdown",
   "metadata": {},
   "source": [
    "1) No change in t-statistics. However R-squared value decreases by a lot. and there is ofc a change in coeff estimates `by a major one`."
   ]
  },
  {
   "cell_type": "markdown",
   "metadata": {},
   "source": [
    "### Checking Leverage statistics for Model-2"
   ]
  },
  {
   "cell_type": "code",
   "execution_count": 23,
   "metadata": {},
   "outputs": [
    {
     "data": {
      "image/png": "[encoded data removed]",
      "text/plain": [
       "<Figure size 800x800 with 1 Axes>"
      ]
     },
     "metadata": {},
     "output_type": "display_data"
    }
   ],
   "source": [
    "infl4 = result4.get_influence()\n",
    "outlier4 = result4.outlier_test()\n",
    "fig, ax = plt.subplots(figsize=(8, 8))\n",
    "ax.scatter(infl4.hat_matrix_diag, outlier4[\"student_resid\"])\n",
    "ax.set_xlabel(\"Leverage\")\n",
    "ax.set_ylabel(\"student residual error\")\n",
    "ax.set_title(\"Student residual error vs Leverage Statistics plot\");"
   ]
  },
  {
   "cell_type": "markdown",
   "metadata": {},
   "source": [
    "##### Since outlier needs atleast >=3 from max. Therefore there is no evidence of outliers as well as high-leverage points."
   ]
  },
  {
   "cell_type": "markdown",
   "metadata": {},
   "source": [
    "### Model-3"
   ]
  },
  {
   "cell_type": "code",
   "execution_count": 20,
   "metadata": {},
   "outputs": [
    {
     "data": {
      "text/html": [
       "<table class=\"simpletable\">\n",
       "<caption>OLS Regression Results</caption>\n",
       "<tr>\n",
       "  <th>Dep. Variable:</th>            <td>y</td>        <th>  R-squared:         </th> <td>   0.267</td>\n",
       "</tr>\n",
       "<tr>\n",
       "  <th>Model:</th>                   <td>OLS</td>       <th>  Adj. R-squared:    </th> <td>   0.260</td>\n",
       "</tr>\n",
       "<tr>\n",
       "  <th>Method:</th>             <td>Least Squares</td>  <th>  F-statistic:       </th> <td>   36.10</td>\n",
       "</tr>\n",
       "<tr>\n",
       "  <th>Date:</th>             <td>Mon, 09 Oct 2023</td> <th>  Prob (F-statistic):</th> <td>3.13e-08</td>\n",
       "</tr>\n",
       "<tr>\n",
       "  <th>Time:</th>                 <td>20:31:18</td>     <th>  Log-Likelihood:    </th> <td> -137.01</td>\n",
       "</tr>\n",
       "<tr>\n",
       "  <th>No. Observations:</th>      <td>   101</td>      <th>  AIC:               </th> <td>   278.0</td>\n",
       "</tr>\n",
       "<tr>\n",
       "  <th>Df Residuals:</th>          <td>    99</td>      <th>  BIC:               </th> <td>   283.3</td>\n",
       "</tr>\n",
       "<tr>\n",
       "  <th>Df Model:</th>              <td>     1</td>      <th>                     </th>     <td> </td>   \n",
       "</tr>\n",
       "<tr>\n",
       "  <th>Covariance Type:</th>      <td>nonrobust</td>    <th>                     </th>     <td> </td>   \n",
       "</tr>\n",
       "</table>\n",
       "<table class=\"simpletable\">\n",
       "<tr>\n",
       "      <td></td>         <th>coef</th>     <th>std err</th>      <th>t</th>      <th>P>|t|</th>  <th>[0.025</th>    <th>0.975]</th>  \n",
       "</tr>\n",
       "<tr>\n",
       "  <th>intercept</th> <td>    2.2840</td> <td>    0.151</td> <td>   15.088</td> <td> 0.000</td> <td>    1.984</td> <td>    2.584</td>\n",
       "</tr>\n",
       "<tr>\n",
       "  <th>x2_new</th>    <td>    3.1458</td> <td>    0.524</td> <td>    6.008</td> <td> 0.000</td> <td>    2.107</td> <td>    4.185</td>\n",
       "</tr>\n",
       "</table>\n",
       "<table class=\"simpletable\">\n",
       "<tr>\n",
       "  <th>Omnibus:</th>       <td> 0.495</td> <th>  Durbin-Watson:     </th> <td>   1.939</td>\n",
       "</tr>\n",
       "<tr>\n",
       "  <th>Prob(Omnibus):</th> <td> 0.781</td> <th>  Jarque-Bera (JB):  </th> <td>   0.631</td>\n",
       "</tr>\n",
       "<tr>\n",
       "  <th>Skew:</th>          <td>-0.041</td> <th>  Prob(JB):          </th> <td>   0.729</td>\n",
       "</tr>\n",
       "<tr>\n",
       "  <th>Kurtosis:</th>      <td> 2.621</td> <th>  Cond. No.          </th> <td>    5.84</td>\n",
       "</tr>\n",
       "</table><br/><br/>Notes:<br/>[1] Standard Errors assume that the covariance matrix of the errors is correctly specified."
      ],
      "text/latex": [
       "\\begin{center}\n",
       "\\begin{tabular}{lclc}\n",
       "\\toprule\n",
       "\\textbf{Dep. Variable:}    &        y         & \\textbf{  R-squared:         } &     0.267   \\\\\n",
       "\\textbf{Model:}            &       OLS        & \\textbf{  Adj. R-squared:    } &     0.260   \\\\\n",
       "\\textbf{Method:}           &  Least Squares   & \\textbf{  F-statistic:       } &     36.10   \\\\\n",
       "\\textbf{Date:}             & Mon, 09 Oct 2023 & \\textbf{  Prob (F-statistic):} &  3.13e-08   \\\\\n",
       "\\textbf{Time:}             &     20:31:18     & \\textbf{  Log-Likelihood:    } &   -137.01   \\\\\n",
       "\\textbf{No. Observations:} &         101      & \\textbf{  AIC:               } &     278.0   \\\\\n",
       "\\textbf{Df Residuals:}     &          99      & \\textbf{  BIC:               } &     283.3   \\\\\n",
       "\\textbf{Df Model:}         &           1      & \\textbf{                     } &             \\\\\n",
       "\\textbf{Covariance Type:}  &    nonrobust     & \\textbf{                     } &             \\\\\n",
       "\\bottomrule\n",
       "\\end{tabular}\n",
       "\\begin{tabular}{lcccccc}\n",
       "                   & \\textbf{coef} & \\textbf{std err} & \\textbf{t} & \\textbf{P$> |$t$|$} & \\textbf{[0.025} & \\textbf{0.975]}  \\\\\n",
       "\\midrule\n",
       "\\textbf{intercept} &       2.2840  &        0.151     &    15.088  &         0.000        &        1.984    &        2.584     \\\\\n",
       "\\textbf{x2\\_new}   &       3.1458  &        0.524     &     6.008  &         0.000        &        2.107    &        4.185     \\\\\n",
       "\\bottomrule\n",
       "\\end{tabular}\n",
       "\\begin{tabular}{lclc}\n",
       "\\textbf{Omnibus:}       &  0.495 & \\textbf{  Durbin-Watson:     } &    1.939  \\\\\n",
       "\\textbf{Prob(Omnibus):} &  0.781 & \\textbf{  Jarque-Bera (JB):  } &    0.631  \\\\\n",
       "\\textbf{Skew:}          & -0.041 & \\textbf{  Prob(JB):          } &    0.729  \\\\\n",
       "\\textbf{Kurtosis:}      &  2.621 & \\textbf{  Cond. No.          } &     5.84  \\\\\n",
       "\\bottomrule\n",
       "\\end{tabular}\n",
       "%\\caption{OLS Regression Results}\n",
       "\\end{center}\n",
       "\n",
       "Notes: \\newline\n",
       " [1] Standard Errors assume that the covariance matrix of the errors is correctly specified."
      ],
      "text/plain": [
       "<class 'statsmodels.iolib.summary.Summary'>\n",
       "\"\"\"\n",
       "                            OLS Regression Results                            \n",
       "==============================================================================\n",
       "Dep. Variable:                      y   R-squared:                       0.267\n",
       "Model:                            OLS   Adj. R-squared:                  0.260\n",
       "Method:                 Least Squares   F-statistic:                     36.10\n",
       "Date:                Mon, 09 Oct 2023   Prob (F-statistic):           3.13e-08\n",
       "Time:                        20:31:18   Log-Likelihood:                -137.01\n",
       "No. Observations:                 101   AIC:                             278.0\n",
       "Df Residuals:                      99   BIC:                             283.3\n",
       "Df Model:                           1                                         \n",
       "Covariance Type:            nonrobust                                         \n",
       "==============================================================================\n",
       "                 coef    std err          t      P>|t|      [0.025      0.975]\n",
       "------------------------------------------------------------------------------\n",
       "intercept      2.2840      0.151     15.088      0.000       1.984       2.584\n",
       "x2_new         3.1458      0.524      6.008      0.000       2.107       4.185\n",
       "==============================================================================\n",
       "Omnibus:                        0.495   Durbin-Watson:                   1.939\n",
       "Prob(Omnibus):                  0.781   Jarque-Bera (JB):                0.631\n",
       "Skew:                          -0.041   Prob(JB):                        0.729\n",
       "Kurtosis:                       2.621   Cond. No.                         5.84\n",
       "==============================================================================\n",
       "\n",
       "Notes:\n",
       "[1] Standard Errors assume that the covariance matrix of the errors is correctly specified.\n",
       "\"\"\""
      ]
     },
     "execution_count": 20,
     "metadata": {},
     "output_type": "execute_result"
    }
   ],
   "source": [
    "# Using only x2_new\n",
    "X_model_matrix5 = pd.DataFrame({\"intercept\":np.ones(101), \"x2_new\":x2_new})\n",
    "result5 = sm.OLS(y_new, X_model_matrix5).fit()\n",
    "result5.summary()"
   ]
  },
  {
   "cell_type": "markdown",
   "metadata": {},
   "source": [
    "1) No change in t-statistics, however there are changes in coeff estimates`(by a major one)` and R-squared value increases by a lot."
   ]
  },
  {
   "cell_type": "markdown",
   "metadata": {},
   "source": [
    "### Checking Leverage statistics for Model-3"
   ]
  },
  {
   "cell_type": "code",
   "execution_count": 24,
   "metadata": {},
   "outputs": [
    {
     "data": {
      "image/png": "[encoded data removed]",
      "text/plain": [
       "<Figure size 800x800 with 1 Axes>"
      ]
     },
     "metadata": {},
     "output_type": "display_data"
    }
   ],
   "source": [
    "infl5 = result5.get_influence()\n",
    "outlier5 = result5.outlier_test()\n",
    "fig, ax = plt.subplots(figsize=(8, 8))\n",
    "ax.scatter(infl5.hat_matrix_diag, outlier5[\"student_resid\"])\n",
    "ax.set_xlabel(\"Leverage\")\n",
    "ax.set_ylabel(\"student residual error\")\n",
    "ax.set_title(\"Student residual error vs Leverage Statistics plot\");"
   ]
  },
  {
   "cell_type": "markdown",
   "metadata": {},
   "source": [
    "##### Since outlier needs atleast >=3 from max value in student residual error plot. Therefore there is no evidence for outlier.\n",
    "\n",
    "##### (p+1)/n = 2/100 = 0.05. And hence there is evidence of High-leverage point."
   ]
  },
  {
   "cell_type": "markdown",
   "metadata": {},
   "source": [
    "## Therefore, we can conclude that evidence of outlier and high-leverage points depends on different models."
   ]
  },
  {
   "cell_type": "code",
   "execution_count": null,
   "metadata": {},
   "outputs": [],
   "source": []
  }
 ],
 "metadata": {
  "kernelspec": {
   "display_name": "islp",
   "language": "python",
   "name": "python3"
  },
  "language_info": {
   "codemirror_mode": {
    "name": "ipython",
    "version": 3
   },
   "file_extension": ".py",
   "mimetype": "text/x-python",
   "name": "python",
   "nbconvert_exporter": "python",
   "pygments_lexer": "ipython3",
   "version": "3.11.5"
  }
 },
 "nbformat": 4,
 "nbformat_minor": 2
}
